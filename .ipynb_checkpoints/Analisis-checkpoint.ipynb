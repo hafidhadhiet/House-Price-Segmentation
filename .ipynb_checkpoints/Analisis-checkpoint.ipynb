{
 "cells": [
  {
   "cell_type": "code",
   "execution_count": 1,
   "id": "a438573f-c49d-4168-9110-912d5bf00b13",
   "metadata": {},
   "outputs": [],
   "source": [
    "import numpy as np\n",
    "import pandas as pd\n",
    "import seaborn as sns\n",
    "import matplotlib.pyplot as plt\n",
    "from sklearn.mixture import GaussianMixture \n",
    "from sklearn.metrics import silhouette_score\n",
    "from sklearn.metrics import silhouette_score\n",
    "from sklearn.model_selection import train_test_split\n",
    "from sklearn import metrics\n",
    "from sklearn import preprocessing"
   ]
  },
  {
   "cell_type": "code",
   "execution_count": 2,
   "id": "9f7b5593-7c20-48b2-9ae1-426a6f682c8b",
   "metadata": {},
   "outputs": [],
   "source": [
    "df = pd.read_excel('dataset/clustered_dataset.xlsx')"
   ]
  },
  {
   "cell_type": "code",
   "execution_count": 3,
   "id": "a3e94a07-762e-496c-81fe-e6b5c4395581",
   "metadata": {},
   "outputs": [
    {
     "data": {
      "text/html": [
       "<div>\n",
       "<style scoped>\n",
       "    .dataframe tbody tr th:only-of-type {\n",
       "        vertical-align: middle;\n",
       "    }\n",
       "\n",
       "    .dataframe tbody tr th {\n",
       "        vertical-align: top;\n",
       "    }\n",
       "\n",
       "    .dataframe thead th {\n",
       "        text-align: right;\n",
       "    }\n",
       "</style>\n",
       "<table border=\"1\" class=\"dataframe\">\n",
       "  <thead>\n",
       "    <tr style=\"text-align: right;\">\n",
       "      <th></th>\n",
       "      <th>luas_tanah</th>\n",
       "      <th>luas_bangunan</th>\n",
       "      <th>kamar_tidur</th>\n",
       "      <th>kamar_mandi</th>\n",
       "      <th>lantai</th>\n",
       "      <th>lokasi</th>\n",
       "      <th>harga</th>\n",
       "      <th>kecamatan</th>\n",
       "      <th>kota</th>\n",
       "      <th>provinsi</th>\n",
       "      <th>Cluster</th>\n",
       "    </tr>\n",
       "  </thead>\n",
       "  <tbody>\n",
       "    <tr>\n",
       "      <th>0</th>\n",
       "      <td>60</td>\n",
       "      <td>60</td>\n",
       "      <td>3</td>\n",
       "      <td>2</td>\n",
       "      <td>2</td>\n",
       "      <td>Cempaka Putih, Jakarta Pusat, Jakarta D.K.I.</td>\n",
       "      <td>550000000</td>\n",
       "      <td>Cempaka Putih</td>\n",
       "      <td>Jakarta Pusat</td>\n",
       "      <td>Jakarta D.K.I.</td>\n",
       "      <td>1</td>\n",
       "    </tr>\n",
       "    <tr>\n",
       "      <th>1</th>\n",
       "      <td>87</td>\n",
       "      <td>85</td>\n",
       "      <td>3</td>\n",
       "      <td>2</td>\n",
       "      <td>2</td>\n",
       "      <td>Sawah Besar, Jakarta Pusat, Jakarta D.K.I.</td>\n",
       "      <td>795000007</td>\n",
       "      <td>Sawah Besar</td>\n",
       "      <td>Jakarta Pusat</td>\n",
       "      <td>Jakarta D.K.I.</td>\n",
       "      <td>1</td>\n",
       "    </tr>\n",
       "    <tr>\n",
       "      <th>2</th>\n",
       "      <td>79</td>\n",
       "      <td>60</td>\n",
       "      <td>2</td>\n",
       "      <td>2</td>\n",
       "      <td>2</td>\n",
       "      <td>Cempaka Putih, Jakarta Pusat, Jakarta D.K.I.</td>\n",
       "      <td>589300023</td>\n",
       "      <td>Cempaka Putih</td>\n",
       "      <td>Jakarta Pusat</td>\n",
       "      <td>Jakarta D.K.I.</td>\n",
       "      <td>1</td>\n",
       "    </tr>\n",
       "    <tr>\n",
       "      <th>3</th>\n",
       "      <td>144</td>\n",
       "      <td>41</td>\n",
       "      <td>2</td>\n",
       "      <td>1</td>\n",
       "      <td>1</td>\n",
       "      <td>Cempaka Putih, Jakarta Pusat, Jakarta D.K.I.</td>\n",
       "      <td>495000000</td>\n",
       "      <td>Cempaka Putih</td>\n",
       "      <td>Jakarta Pusat</td>\n",
       "      <td>Jakarta D.K.I.</td>\n",
       "      <td>1</td>\n",
       "    </tr>\n",
       "    <tr>\n",
       "      <th>4</th>\n",
       "      <td>90</td>\n",
       "      <td>60</td>\n",
       "      <td>4</td>\n",
       "      <td>2</td>\n",
       "      <td>1</td>\n",
       "      <td>Kelapa Gading, Jakarta Utara, Jakarta D.K.I.</td>\n",
       "      <td>2100000000</td>\n",
       "      <td>Kelapa Gading</td>\n",
       "      <td>Jakarta Utara</td>\n",
       "      <td>Jakarta D.K.I.</td>\n",
       "      <td>2</td>\n",
       "    </tr>\n",
       "  </tbody>\n",
       "</table>\n",
       "</div>"
      ],
      "text/plain": [
       "   luas_tanah  luas_bangunan  kamar_tidur  kamar_mandi  lantai  \\\n",
       "0          60             60            3            2       2   \n",
       "1          87             85            3            2       2   \n",
       "2          79             60            2            2       2   \n",
       "3         144             41            2            1       1   \n",
       "4          90             60            4            2       1   \n",
       "\n",
       "                                         lokasi       harga      kecamatan  \\\n",
       "0  Cempaka Putih, Jakarta Pusat, Jakarta D.K.I.   550000000  Cempaka Putih   \n",
       "1    Sawah Besar, Jakarta Pusat, Jakarta D.K.I.   795000007    Sawah Besar   \n",
       "2  Cempaka Putih, Jakarta Pusat, Jakarta D.K.I.   589300023  Cempaka Putih   \n",
       "3  Cempaka Putih, Jakarta Pusat, Jakarta D.K.I.   495000000  Cempaka Putih   \n",
       "4  Kelapa Gading, Jakarta Utara, Jakarta D.K.I.  2100000000  Kelapa Gading   \n",
       "\n",
       "            kota        provinsi  Cluster  \n",
       "0  Jakarta Pusat  Jakarta D.K.I.        1  \n",
       "1  Jakarta Pusat  Jakarta D.K.I.        1  \n",
       "2  Jakarta Pusat  Jakarta D.K.I.        1  \n",
       "3  Jakarta Pusat  Jakarta D.K.I.        1  \n",
       "4  Jakarta Utara  Jakarta D.K.I.        2  "
      ]
     },
     "execution_count": 3,
     "metadata": {},
     "output_type": "execute_result"
    }
   ],
   "source": [
    "df.head()"
   ]
  },
  {
   "cell_type": "code",
   "execution_count": 4,
   "id": "407bb147-3088-44e5-a59f-cb85652aa670",
   "metadata": {},
   "outputs": [
    {
     "data": {
      "text/html": [
       "<div>\n",
       "<style scoped>\n",
       "    .dataframe tbody tr th:only-of-type {\n",
       "        vertical-align: middle;\n",
       "    }\n",
       "\n",
       "    .dataframe tbody tr th {\n",
       "        vertical-align: top;\n",
       "    }\n",
       "\n",
       "    .dataframe thead th {\n",
       "        text-align: right;\n",
       "    }\n",
       "</style>\n",
       "<table border=\"1\" class=\"dataframe\">\n",
       "  <thead>\n",
       "    <tr style=\"text-align: right;\">\n",
       "      <th></th>\n",
       "      <th>luas_tanah</th>\n",
       "      <th>luas_bangunan</th>\n",
       "      <th>kamar_tidur</th>\n",
       "      <th>kamar_mandi</th>\n",
       "      <th>lantai</th>\n",
       "      <th>harga</th>\n",
       "      <th>Cluster</th>\n",
       "    </tr>\n",
       "  </thead>\n",
       "  <tbody>\n",
       "    <tr>\n",
       "      <th>count</th>\n",
       "      <td>1548.000000</td>\n",
       "      <td>1548.000000</td>\n",
       "      <td>1548.000000</td>\n",
       "      <td>1548.000000</td>\n",
       "      <td>1548.000000</td>\n",
       "      <td>1.548000e+03</td>\n",
       "      <td>1548.000000</td>\n",
       "    </tr>\n",
       "    <tr>\n",
       "      <th>mean</th>\n",
       "      <td>83.054910</td>\n",
       "      <td>90.410853</td>\n",
       "      <td>2.918605</td>\n",
       "      <td>2.113695</td>\n",
       "      <td>1.765504</td>\n",
       "      <td>1.344577e+09</td>\n",
       "      <td>1.644057</td>\n",
       "    </tr>\n",
       "    <tr>\n",
       "      <th>std</th>\n",
       "      <td>35.979366</td>\n",
       "      <td>54.705834</td>\n",
       "      <td>1.002822</td>\n",
       "      <td>0.969473</td>\n",
       "      <td>0.599438</td>\n",
       "      <td>1.125629e+09</td>\n",
       "      <td>0.729326</td>\n",
       "    </tr>\n",
       "    <tr>\n",
       "      <th>min</th>\n",
       "      <td>21.000000</td>\n",
       "      <td>21.000000</td>\n",
       "      <td>1.000000</td>\n",
       "      <td>1.000000</td>\n",
       "      <td>1.000000</td>\n",
       "      <td>1.500000e+08</td>\n",
       "      <td>1.000000</td>\n",
       "    </tr>\n",
       "    <tr>\n",
       "      <th>25%</th>\n",
       "      <td>60.000000</td>\n",
       "      <td>50.000000</td>\n",
       "      <td>2.000000</td>\n",
       "      <td>1.000000</td>\n",
       "      <td>1.000000</td>\n",
       "      <td>5.500000e+08</td>\n",
       "      <td>1.000000</td>\n",
       "    </tr>\n",
       "    <tr>\n",
       "      <th>50%</th>\n",
       "      <td>78.000000</td>\n",
       "      <td>72.000000</td>\n",
       "      <td>3.000000</td>\n",
       "      <td>2.000000</td>\n",
       "      <td>2.000000</td>\n",
       "      <td>9.360000e+08</td>\n",
       "      <td>1.000000</td>\n",
       "    </tr>\n",
       "    <tr>\n",
       "      <th>75%</th>\n",
       "      <td>98.000000</td>\n",
       "      <td>125.000000</td>\n",
       "      <td>3.000000</td>\n",
       "      <td>3.000000</td>\n",
       "      <td>2.000000</td>\n",
       "      <td>1.700000e+09</td>\n",
       "      <td>2.000000</td>\n",
       "    </tr>\n",
       "    <tr>\n",
       "      <th>max</th>\n",
       "      <td>203.000000</td>\n",
       "      <td>265.000000</td>\n",
       "      <td>10.000000</td>\n",
       "      <td>9.000000</td>\n",
       "      <td>5.000000</td>\n",
       "      <td>6.500000e+09</td>\n",
       "      <td>3.000000</td>\n",
       "    </tr>\n",
       "  </tbody>\n",
       "</table>\n",
       "</div>"
      ],
      "text/plain": [
       "        luas_tanah  luas_bangunan  kamar_tidur  kamar_mandi       lantai  \\\n",
       "count  1548.000000    1548.000000  1548.000000  1548.000000  1548.000000   \n",
       "mean     83.054910      90.410853     2.918605     2.113695     1.765504   \n",
       "std      35.979366      54.705834     1.002822     0.969473     0.599438   \n",
       "min      21.000000      21.000000     1.000000     1.000000     1.000000   \n",
       "25%      60.000000      50.000000     2.000000     1.000000     1.000000   \n",
       "50%      78.000000      72.000000     3.000000     2.000000     2.000000   \n",
       "75%      98.000000     125.000000     3.000000     3.000000     2.000000   \n",
       "max     203.000000     265.000000    10.000000     9.000000     5.000000   \n",
       "\n",
       "              harga      Cluster  \n",
       "count  1.548000e+03  1548.000000  \n",
       "mean   1.344577e+09     1.644057  \n",
       "std    1.125629e+09     0.729326  \n",
       "min    1.500000e+08     1.000000  \n",
       "25%    5.500000e+08     1.000000  \n",
       "50%    9.360000e+08     1.000000  \n",
       "75%    1.700000e+09     2.000000  \n",
       "max    6.500000e+09     3.000000  "
      ]
     },
     "execution_count": 4,
     "metadata": {},
     "output_type": "execute_result"
    }
   ],
   "source": [
    "df.describe()"
   ]
  },
  {
   "cell_type": "code",
   "execution_count": 5,
   "id": "0c779f56-a98f-4b39-afe5-5a416ff4c315",
   "metadata": {},
   "outputs": [
    {
     "data": {
      "image/png": "[encoded data removed]",
      "text/plain": [
       "<Figure size 720x504 with 1 Axes>"
      ]
     },
     "metadata": {},
     "output_type": "display_data"
    }
   ],
   "source": [
    "clusters = ['Cluster 1', 'Cluster 2', 'Cluster 3']\n",
    "\n",
    "jml_c1 = int(len(df.loc[df['Cluster'] == 1]))\n",
    "jml_c2 = int(len(df.loc[df['Cluster'] == 2]))\n",
    "jml_c3 = int(len(df.loc[df['Cluster'] == 3]))\n",
    "\n",
    "data = np.array([jml_c1, jml_c2, jml_c3])\n",
    "\n",
    "colors = ['yellowgreen', 'gold', 'lightskyblue']\n",
    "\n",
    "explode = (0.05, 0.1, 0.0)\n",
    "\n",
    "def absolute_value(val):\n",
    "    a  = np.round(val/100.*data.sum(), 0)\n",
    "    return int(a)\n",
    "\n",
    "wp = { 'linewidth' : 1, 'edgecolor' : \"black\" }\n",
    "fig, ax = plt.subplots(figsize =(10, 7))\n",
    "\n",
    "wedges, texts, autotexts = ax.pie(data,\n",
    "                                  autopct = absolute_value,\n",
    "                                  explode = explode,\n",
    "                                  labels = clusters,\n",
    "                                  shadow = True,\n",
    "                                  colors = colors,\n",
    "                                  startangle = 90,\n",
    "                                  wedgeprops = wp,\n",
    "                                  textprops = dict(color =\"black\"))\n",
    "fig.set_facecolor('white')\n",
    "\n",
    "# ax.legend(wedges, clusters,\n",
    "#           title =\"Clusters\",\n",
    "#           loc =\"center left\",\n",
    "#           bbox_to_anchor =(1, 0, 0.5, 1))\n",
    " \n",
    "plt.setp(autotexts, size = 8, weight =\"bold\")\n",
    "ax.set_title(\"Hasil clustering\")\n",
    "\n",
    "\n",
    "plt.axis('equal')\n",
    "plt.show()\n",
    "fig.savefig('Sebaran data setelah proses clustering.jpg', bbox_inches='tight')"
   ]
  },
  {
   "cell_type": "markdown",
   "id": "f0b7d371-b6ac-49c2-9828-74e3211fcf78",
   "metadata": {},
   "source": [
    "<p>Setelah dilakukan clustering, cluster 1 memiliki anggota terbanyak yaitu sebanyak 774 anggota, diikuti oleh cluster 2 yang memiliki sebanyak 533 anggota, dan yang terakhir cluster 3 yang memiliki sebanyak 241 anggota.<p>"
   ]
  },
  {
   "cell_type": "code",
   "execution_count": 6,
   "id": "7dc4206f-e5aa-400a-a935-77104b76ebe1",
   "metadata": {},
   "outputs": [
    {
     "data": {
      "text/html": [
       "<div>\n",
       "<style scoped>\n",
       "    .dataframe tbody tr th:only-of-type {\n",
       "        vertical-align: middle;\n",
       "    }\n",
       "\n",
       "    .dataframe tbody tr th {\n",
       "        vertical-align: top;\n",
       "    }\n",
       "\n",
       "    .dataframe thead th {\n",
       "        text-align: right;\n",
       "    }\n",
       "</style>\n",
       "<table border=\"1\" class=\"dataframe\">\n",
       "  <thead>\n",
       "    <tr style=\"text-align: right;\">\n",
       "      <th></th>\n",
       "      <th>luas_tanah</th>\n",
       "      <th>luas_bangunan</th>\n",
       "      <th>kamar_tidur</th>\n",
       "      <th>kamar_mandi</th>\n",
       "      <th>lantai</th>\n",
       "      <th>lokasi</th>\n",
       "      <th>harga</th>\n",
       "      <th>kecamatan</th>\n",
       "      <th>kota</th>\n",
       "      <th>provinsi</th>\n",
       "      <th>Cluster</th>\n",
       "    </tr>\n",
       "  </thead>\n",
       "  <tbody>\n",
       "    <tr>\n",
       "      <th>0</th>\n",
       "      <td>60</td>\n",
       "      <td>60</td>\n",
       "      <td>3</td>\n",
       "      <td>2</td>\n",
       "      <td>2</td>\n",
       "      <td>Cempaka Putih, Jakarta Pusat, Jakarta D.K.I.</td>\n",
       "      <td>550000000</td>\n",
       "      <td>Cempaka Putih</td>\n",
       "      <td>Jakarta Pusat</td>\n",
       "      <td>Jakarta D.K.I.</td>\n",
       "      <td>1</td>\n",
       "    </tr>\n",
       "    <tr>\n",
       "      <th>1</th>\n",
       "      <td>87</td>\n",
       "      <td>85</td>\n",
       "      <td>3</td>\n",
       "      <td>2</td>\n",
       "      <td>2</td>\n",
       "      <td>Sawah Besar, Jakarta Pusat, Jakarta D.K.I.</td>\n",
       "      <td>795000007</td>\n",
       "      <td>Sawah Besar</td>\n",
       "      <td>Jakarta Pusat</td>\n",
       "      <td>Jakarta D.K.I.</td>\n",
       "      <td>1</td>\n",
       "    </tr>\n",
       "    <tr>\n",
       "      <th>2</th>\n",
       "      <td>79</td>\n",
       "      <td>60</td>\n",
       "      <td>2</td>\n",
       "      <td>2</td>\n",
       "      <td>2</td>\n",
       "      <td>Cempaka Putih, Jakarta Pusat, Jakarta D.K.I.</td>\n",
       "      <td>589300023</td>\n",
       "      <td>Cempaka Putih</td>\n",
       "      <td>Jakarta Pusat</td>\n",
       "      <td>Jakarta D.K.I.</td>\n",
       "      <td>1</td>\n",
       "    </tr>\n",
       "    <tr>\n",
       "      <th>3</th>\n",
       "      <td>144</td>\n",
       "      <td>41</td>\n",
       "      <td>2</td>\n",
       "      <td>1</td>\n",
       "      <td>1</td>\n",
       "      <td>Cempaka Putih, Jakarta Pusat, Jakarta D.K.I.</td>\n",
       "      <td>495000000</td>\n",
       "      <td>Cempaka Putih</td>\n",
       "      <td>Jakarta Pusat</td>\n",
       "      <td>Jakarta D.K.I.</td>\n",
       "      <td>1</td>\n",
       "    </tr>\n",
       "    <tr>\n",
       "      <th>7</th>\n",
       "      <td>98</td>\n",
       "      <td>38</td>\n",
       "      <td>2</td>\n",
       "      <td>1</td>\n",
       "      <td>1</td>\n",
       "      <td>Kemayoran, Jakarta Pusat, Jakarta D.K.I.</td>\n",
       "      <td>650258500</td>\n",
       "      <td>Kemayoran</td>\n",
       "      <td>Jakarta Pusat</td>\n",
       "      <td>Jakarta D.K.I.</td>\n",
       "      <td>1</td>\n",
       "    </tr>\n",
       "  </tbody>\n",
       "</table>\n",
       "</div>"
      ],
      "text/plain": [
       "   luas_tanah  luas_bangunan  kamar_tidur  kamar_mandi  lantai  \\\n",
       "0          60             60            3            2       2   \n",
       "1          87             85            3            2       2   \n",
       "2          79             60            2            2       2   \n",
       "3         144             41            2            1       1   \n",
       "7          98             38            2            1       1   \n",
       "\n",
       "                                         lokasi      harga      kecamatan  \\\n",
       "0  Cempaka Putih, Jakarta Pusat, Jakarta D.K.I.  550000000  Cempaka Putih   \n",
       "1    Sawah Besar, Jakarta Pusat, Jakarta D.K.I.  795000007    Sawah Besar   \n",
       "2  Cempaka Putih, Jakarta Pusat, Jakarta D.K.I.  589300023  Cempaka Putih   \n",
       "3  Cempaka Putih, Jakarta Pusat, Jakarta D.K.I.  495000000  Cempaka Putih   \n",
       "7      Kemayoran, Jakarta Pusat, Jakarta D.K.I.  650258500      Kemayoran   \n",
       "\n",
       "            kota        provinsi  Cluster  \n",
       "0  Jakarta Pusat  Jakarta D.K.I.        1  \n",
       "1  Jakarta Pusat  Jakarta D.K.I.        1  \n",
       "2  Jakarta Pusat  Jakarta D.K.I.        1  \n",
       "3  Jakarta Pusat  Jakarta D.K.I.        1  \n",
       "7  Jakarta Pusat  Jakarta D.K.I.        1  "
      ]
     },
     "execution_count": 6,
     "metadata": {},
     "output_type": "execute_result"
    }
   ],
   "source": [
    "cluster1 = df.loc[df['Cluster'] == 1]\n",
    "# cluster1.reset_index(inplace = True)\n",
    "cluster1.head()"
   ]
  },
  {
   "cell_type": "code",
   "execution_count": 7,
   "id": "cda0ca11-1627-461e-80e3-82494847e3b8",
   "metadata": {},
   "outputs": [
    {
     "data": {
      "text/html": [
       "<div>\n",
       "<style scoped>\n",
       "    .dataframe tbody tr th:only-of-type {\n",
       "        vertical-align: middle;\n",
       "    }\n",
       "\n",
       "    .dataframe tbody tr th {\n",
       "        vertical-align: top;\n",
       "    }\n",
       "\n",
       "    .dataframe thead th {\n",
       "        text-align: right;\n",
       "    }\n",
       "</style>\n",
       "<table border=\"1\" class=\"dataframe\">\n",
       "  <thead>\n",
       "    <tr style=\"text-align: right;\">\n",
       "      <th></th>\n",
       "      <th>luas_tanah</th>\n",
       "      <th>luas_bangunan</th>\n",
       "      <th>kamar_tidur</th>\n",
       "      <th>kamar_mandi</th>\n",
       "      <th>lantai</th>\n",
       "      <th>lokasi</th>\n",
       "      <th>harga</th>\n",
       "      <th>kecamatan</th>\n",
       "      <th>kota</th>\n",
       "      <th>provinsi</th>\n",
       "      <th>Cluster</th>\n",
       "    </tr>\n",
       "  </thead>\n",
       "  <tbody>\n",
       "    <tr>\n",
       "      <th>4</th>\n",
       "      <td>90</td>\n",
       "      <td>60</td>\n",
       "      <td>4</td>\n",
       "      <td>2</td>\n",
       "      <td>1</td>\n",
       "      <td>Kelapa Gading, Jakarta Utara, Jakarta D.K.I.</td>\n",
       "      <td>2100000000</td>\n",
       "      <td>Kelapa Gading</td>\n",
       "      <td>Jakarta Utara</td>\n",
       "      <td>Jakarta D.K.I.</td>\n",
       "      <td>2</td>\n",
       "    </tr>\n",
       "    <tr>\n",
       "      <th>9</th>\n",
       "      <td>77</td>\n",
       "      <td>60</td>\n",
       "      <td>2</td>\n",
       "      <td>1</td>\n",
       "      <td>1</td>\n",
       "      <td>Koja, Jakarta Utara, Jakarta D.K.I.</td>\n",
       "      <td>1300000000</td>\n",
       "      <td>Koja</td>\n",
       "      <td>Jakarta Utara</td>\n",
       "      <td>Jakarta D.K.I.</td>\n",
       "      <td>2</td>\n",
       "    </tr>\n",
       "    <tr>\n",
       "      <th>11</th>\n",
       "      <td>99</td>\n",
       "      <td>140</td>\n",
       "      <td>4</td>\n",
       "      <td>3</td>\n",
       "      <td>2</td>\n",
       "      <td>Tanjung Priok, Jakarta Utara, Jakarta D.K.I.</td>\n",
       "      <td>2100000000</td>\n",
       "      <td>Tanjung Priok</td>\n",
       "      <td>Jakarta Utara</td>\n",
       "      <td>Jakarta D.K.I.</td>\n",
       "      <td>2</td>\n",
       "    </tr>\n",
       "    <tr>\n",
       "      <th>12</th>\n",
       "      <td>77</td>\n",
       "      <td>60</td>\n",
       "      <td>2</td>\n",
       "      <td>1</td>\n",
       "      <td>1</td>\n",
       "      <td>Koja, Jakarta Utara, Jakarta D.K.I.</td>\n",
       "      <td>1300000000</td>\n",
       "      <td>Koja</td>\n",
       "      <td>Jakarta Utara</td>\n",
       "      <td>Jakarta D.K.I.</td>\n",
       "      <td>2</td>\n",
       "    </tr>\n",
       "    <tr>\n",
       "      <th>14</th>\n",
       "      <td>150</td>\n",
       "      <td>100</td>\n",
       "      <td>4</td>\n",
       "      <td>2</td>\n",
       "      <td>1</td>\n",
       "      <td>Kelapa Gading, Jakarta Utara, Jakarta D.K.I.</td>\n",
       "      <td>1994000000</td>\n",
       "      <td>Kelapa Gading</td>\n",
       "      <td>Jakarta Utara</td>\n",
       "      <td>Jakarta D.K.I.</td>\n",
       "      <td>2</td>\n",
       "    </tr>\n",
       "  </tbody>\n",
       "</table>\n",
       "</div>"
      ],
      "text/plain": [
       "    luas_tanah  luas_bangunan  kamar_tidur  kamar_mandi  lantai  \\\n",
       "4           90             60            4            2       1   \n",
       "9           77             60            2            1       1   \n",
       "11          99            140            4            3       2   \n",
       "12          77             60            2            1       1   \n",
       "14         150            100            4            2       1   \n",
       "\n",
       "                                          lokasi       harga      kecamatan  \\\n",
       "4   Kelapa Gading, Jakarta Utara, Jakarta D.K.I.  2100000000  Kelapa Gading   \n",
       "9            Koja, Jakarta Utara, Jakarta D.K.I.  1300000000           Koja   \n",
       "11  Tanjung Priok, Jakarta Utara, Jakarta D.K.I.  2100000000  Tanjung Priok   \n",
       "12           Koja, Jakarta Utara, Jakarta D.K.I.  1300000000           Koja   \n",
       "14  Kelapa Gading, Jakarta Utara, Jakarta D.K.I.  1994000000  Kelapa Gading   \n",
       "\n",
       "             kota        provinsi  Cluster  \n",
       "4   Jakarta Utara  Jakarta D.K.I.        2  \n",
       "9   Jakarta Utara  Jakarta D.K.I.        2  \n",
       "11  Jakarta Utara  Jakarta D.K.I.        2  \n",
       "12  Jakarta Utara  Jakarta D.K.I.        2  \n",
       "14  Jakarta Utara  Jakarta D.K.I.        2  "
      ]
     },
     "execution_count": 7,
     "metadata": {},
     "output_type": "execute_result"
    }
   ],
   "source": [
    "cluster2 = df.loc[df['Cluster'] == 2]\n",
    "# cluster2.reset_index(inplace = True)\n",
    "cluster2.head()"
   ]
  },
  {
   "cell_type": "code",
   "execution_count": 8,
   "id": "5401e874-d69a-4dd1-90cf-78697dadc186",
   "metadata": {},
   "outputs": [
    {
     "data": {
      "text/html": [
       "<div>\n",
       "<style scoped>\n",
       "    .dataframe tbody tr th:only-of-type {\n",
       "        vertical-align: middle;\n",
       "    }\n",
       "\n",
       "    .dataframe tbody tr th {\n",
       "        vertical-align: top;\n",
       "    }\n",
       "\n",
       "    .dataframe thead th {\n",
       "        text-align: right;\n",
       "    }\n",
       "</style>\n",
       "<table border=\"1\" class=\"dataframe\">\n",
       "  <thead>\n",
       "    <tr style=\"text-align: right;\">\n",
       "      <th></th>\n",
       "      <th>luas_tanah</th>\n",
       "      <th>luas_bangunan</th>\n",
       "      <th>kamar_tidur</th>\n",
       "      <th>kamar_mandi</th>\n",
       "      <th>lantai</th>\n",
       "      <th>lokasi</th>\n",
       "      <th>harga</th>\n",
       "      <th>kecamatan</th>\n",
       "      <th>kota</th>\n",
       "      <th>provinsi</th>\n",
       "      <th>Cluster</th>\n",
       "    </tr>\n",
       "  </thead>\n",
       "  <tbody>\n",
       "    <tr>\n",
       "      <th>5</th>\n",
       "      <td>150</td>\n",
       "      <td>150</td>\n",
       "      <td>4</td>\n",
       "      <td>2</td>\n",
       "      <td>2</td>\n",
       "      <td>Kelapa Gading, Jakarta Utara, Jakarta D.K.I.</td>\n",
       "      <td>3500000000</td>\n",
       "      <td>Kelapa Gading</td>\n",
       "      <td>Jakarta Utara</td>\n",
       "      <td>Jakarta D.K.I.</td>\n",
       "      <td>3</td>\n",
       "    </tr>\n",
       "    <tr>\n",
       "      <th>6</th>\n",
       "      <td>55</td>\n",
       "      <td>240</td>\n",
       "      <td>1</td>\n",
       "      <td>3</td>\n",
       "      <td>5</td>\n",
       "      <td>Kelapa Gading, Jakarta Utara, Jakarta D.K.I.</td>\n",
       "      <td>3700000000</td>\n",
       "      <td>Kelapa Gading</td>\n",
       "      <td>Jakarta Utara</td>\n",
       "      <td>Jakarta D.K.I.</td>\n",
       "      <td>3</td>\n",
       "    </tr>\n",
       "    <tr>\n",
       "      <th>10</th>\n",
       "      <td>90</td>\n",
       "      <td>90</td>\n",
       "      <td>3</td>\n",
       "      <td>3</td>\n",
       "      <td>1</td>\n",
       "      <td>Kelapa Gading, Jakarta Utara, Jakarta D.K.I.</td>\n",
       "      <td>2650000000</td>\n",
       "      <td>Kelapa Gading</td>\n",
       "      <td>Jakarta Utara</td>\n",
       "      <td>Jakarta D.K.I.</td>\n",
       "      <td>3</td>\n",
       "    </tr>\n",
       "    <tr>\n",
       "      <th>21</th>\n",
       "      <td>128</td>\n",
       "      <td>216</td>\n",
       "      <td>5</td>\n",
       "      <td>4</td>\n",
       "      <td>1</td>\n",
       "      <td>Kelapa Gading, Jakarta Utara, Jakarta D.K.I.</td>\n",
       "      <td>2750000000</td>\n",
       "      <td>Kelapa Gading</td>\n",
       "      <td>Jakarta Utara</td>\n",
       "      <td>Jakarta D.K.I.</td>\n",
       "      <td>3</td>\n",
       "    </tr>\n",
       "    <tr>\n",
       "      <th>22</th>\n",
       "      <td>90</td>\n",
       "      <td>250</td>\n",
       "      <td>4</td>\n",
       "      <td>4</td>\n",
       "      <td>3</td>\n",
       "      <td>Kelapa Gading, Jakarta Utara, Jakarta D.K.I.</td>\n",
       "      <td>4800000000</td>\n",
       "      <td>Kelapa Gading</td>\n",
       "      <td>Jakarta Utara</td>\n",
       "      <td>Jakarta D.K.I.</td>\n",
       "      <td>3</td>\n",
       "    </tr>\n",
       "  </tbody>\n",
       "</table>\n",
       "</div>"
      ],
      "text/plain": [
       "    luas_tanah  luas_bangunan  kamar_tidur  kamar_mandi  lantai  \\\n",
       "5          150            150            4            2       2   \n",
       "6           55            240            1            3       5   \n",
       "10          90             90            3            3       1   \n",
       "21         128            216            5            4       1   \n",
       "22          90            250            4            4       3   \n",
       "\n",
       "                                          lokasi       harga      kecamatan  \\\n",
       "5   Kelapa Gading, Jakarta Utara, Jakarta D.K.I.  3500000000  Kelapa Gading   \n",
       "6   Kelapa Gading, Jakarta Utara, Jakarta D.K.I.  3700000000  Kelapa Gading   \n",
       "10  Kelapa Gading, Jakarta Utara, Jakarta D.K.I.  2650000000  Kelapa Gading   \n",
       "21  Kelapa Gading, Jakarta Utara, Jakarta D.K.I.  2750000000  Kelapa Gading   \n",
       "22  Kelapa Gading, Jakarta Utara, Jakarta D.K.I.  4800000000  Kelapa Gading   \n",
       "\n",
       "             kota        provinsi  Cluster  \n",
       "5   Jakarta Utara  Jakarta D.K.I.        3  \n",
       "6   Jakarta Utara  Jakarta D.K.I.        3  \n",
       "10  Jakarta Utara  Jakarta D.K.I.        3  \n",
       "21  Jakarta Utara  Jakarta D.K.I.        3  \n",
       "22  Jakarta Utara  Jakarta D.K.I.        3  "
      ]
     },
     "execution_count": 8,
     "metadata": {},
     "output_type": "execute_result"
    }
   ],
   "source": [
    "cluster3 = df.loc[df['Cluster'] == 3]\n",
    "# cluster3.reset_index(inplace = True)\n",
    "cluster3.head()"
   ]
  },
  {
   "cell_type": "code",
   "execution_count": 9,
   "id": "52176bfb-a237-490f-954e-c11595b26e87",
   "metadata": {},
   "outputs": [],
   "source": [
    "cluster1.to_excel('Cluster_1/cluster1.xlsx', index=False)\n",
    "cluster2.to_excel('Cluster_2/cluster2.xlsx', index=False)\n",
    "cluster3.to_excel('Cluster_3/cluster3.xlsx', index=False)"
   ]
  },
  {
   "cell_type": "code",
   "execution_count": 10,
   "id": "426fbeb2-1aff-4621-8f69-2cee686abe70",
   "metadata": {},
   "outputs": [
    {
     "data": {
      "text/html": [
       "<div>\n",
       "<style scoped>\n",
       "    .dataframe tbody tr th:only-of-type {\n",
       "        vertical-align: middle;\n",
       "    }\n",
       "\n",
       "    .dataframe tbody tr th {\n",
       "        vertical-align: top;\n",
       "    }\n",
       "\n",
       "    .dataframe thead th {\n",
       "        text-align: right;\n",
       "    }\n",
       "</style>\n",
       "<table border=\"1\" class=\"dataframe\">\n",
       "  <thead>\n",
       "    <tr style=\"text-align: right;\">\n",
       "      <th></th>\n",
       "      <th>luas_tanah</th>\n",
       "      <th>luas_bangunan</th>\n",
       "      <th>kamar_tidur</th>\n",
       "      <th>kamar_mandi</th>\n",
       "      <th>lantai</th>\n",
       "      <th>harga</th>\n",
       "      <th>Cluster</th>\n",
       "    </tr>\n",
       "  </thead>\n",
       "  <tbody>\n",
       "    <tr>\n",
       "      <th>count</th>\n",
       "      <td>785.000000</td>\n",
       "      <td>785.000000</td>\n",
       "      <td>785.000000</td>\n",
       "      <td>785.000000</td>\n",
       "      <td>785.000000</td>\n",
       "      <td>7.850000e+02</td>\n",
       "      <td>785.0</td>\n",
       "    </tr>\n",
       "    <tr>\n",
       "      <th>mean</th>\n",
       "      <td>63.969427</td>\n",
       "      <td>53.262420</td>\n",
       "      <td>2.384713</td>\n",
       "      <td>1.569427</td>\n",
       "      <td>1.535032</td>\n",
       "      <td>5.674853e+08</td>\n",
       "      <td>1.0</td>\n",
       "    </tr>\n",
       "    <tr>\n",
       "      <th>std</th>\n",
       "      <td>20.389300</td>\n",
       "      <td>20.247195</td>\n",
       "      <td>0.616334</td>\n",
       "      <td>0.641334</td>\n",
       "      <td>0.531275</td>\n",
       "      <td>2.134808e+08</td>\n",
       "      <td>0.0</td>\n",
       "    </tr>\n",
       "    <tr>\n",
       "      <th>min</th>\n",
       "      <td>21.000000</td>\n",
       "      <td>21.000000</td>\n",
       "      <td>1.000000</td>\n",
       "      <td>1.000000</td>\n",
       "      <td>1.000000</td>\n",
       "      <td>1.500000e+08</td>\n",
       "      <td>1.0</td>\n",
       "    </tr>\n",
       "    <tr>\n",
       "      <th>25%</th>\n",
       "      <td>60.000000</td>\n",
       "      <td>38.000000</td>\n",
       "      <td>2.000000</td>\n",
       "      <td>1.000000</td>\n",
       "      <td>1.000000</td>\n",
       "      <td>4.675365e+08</td>\n",
       "      <td>1.0</td>\n",
       "    </tr>\n",
       "    <tr>\n",
       "      <th>50%</th>\n",
       "      <td>60.000000</td>\n",
       "      <td>50.000000</td>\n",
       "      <td>2.000000</td>\n",
       "      <td>1.000000</td>\n",
       "      <td>2.000000</td>\n",
       "      <td>5.500000e+08</td>\n",
       "      <td>1.0</td>\n",
       "    </tr>\n",
       "    <tr>\n",
       "      <th>75%</th>\n",
       "      <td>78.000000</td>\n",
       "      <td>64.000000</td>\n",
       "      <td>3.000000</td>\n",
       "      <td>2.000000</td>\n",
       "      <td>2.000000</td>\n",
       "      <td>7.610000e+08</td>\n",
       "      <td>1.0</td>\n",
       "    </tr>\n",
       "    <tr>\n",
       "      <th>max</th>\n",
       "      <td>151.000000</td>\n",
       "      <td>172.000000</td>\n",
       "      <td>10.000000</td>\n",
       "      <td>4.000000</td>\n",
       "      <td>4.000000</td>\n",
       "      <td>9.823000e+08</td>\n",
       "      <td>1.0</td>\n",
       "    </tr>\n",
       "  </tbody>\n",
       "</table>\n",
       "</div>"
      ],
      "text/plain": [
       "       luas_tanah  luas_bangunan  kamar_tidur  kamar_mandi      lantai  \\\n",
       "count  785.000000     785.000000   785.000000   785.000000  785.000000   \n",
       "mean    63.969427      53.262420     2.384713     1.569427    1.535032   \n",
       "std     20.389300      20.247195     0.616334     0.641334    0.531275   \n",
       "min     21.000000      21.000000     1.000000     1.000000    1.000000   \n",
       "25%     60.000000      38.000000     2.000000     1.000000    1.000000   \n",
       "50%     60.000000      50.000000     2.000000     1.000000    2.000000   \n",
       "75%     78.000000      64.000000     3.000000     2.000000    2.000000   \n",
       "max    151.000000     172.000000    10.000000     4.000000    4.000000   \n",
       "\n",
       "              harga  Cluster  \n",
       "count  7.850000e+02    785.0  \n",
       "mean   5.674853e+08      1.0  \n",
       "std    2.134808e+08      0.0  \n",
       "min    1.500000e+08      1.0  \n",
       "25%    4.675365e+08      1.0  \n",
       "50%    5.500000e+08      1.0  \n",
       "75%    7.610000e+08      1.0  \n",
       "max    9.823000e+08      1.0  "
      ]
     },
     "execution_count": 10,
     "metadata": {},
     "output_type": "execute_result"
    }
   ],
   "source": [
    "cluster1.describe()"
   ]
  },
  {
   "cell_type": "code",
   "execution_count": 11,
   "id": "50223906-e1b2-4676-96fe-a353c9ab47c9",
   "metadata": {},
   "outputs": [
    {
     "data": {
      "text/html": [
       "<div>\n",
       "<style scoped>\n",
       "    .dataframe tbody tr th:only-of-type {\n",
       "        vertical-align: middle;\n",
       "    }\n",
       "\n",
       "    .dataframe tbody tr th {\n",
       "        vertical-align: top;\n",
       "    }\n",
       "\n",
       "    .dataframe thead th {\n",
       "        text-align: right;\n",
       "    }\n",
       "</style>\n",
       "<table border=\"1\" class=\"dataframe\">\n",
       "  <thead>\n",
       "    <tr style=\"text-align: right;\">\n",
       "      <th></th>\n",
       "      <th>luas_tanah</th>\n",
       "      <th>luas_bangunan</th>\n",
       "      <th>kamar_tidur</th>\n",
       "      <th>kamar_mandi</th>\n",
       "      <th>lantai</th>\n",
       "      <th>harga</th>\n",
       "      <th>Cluster</th>\n",
       "    </tr>\n",
       "  </thead>\n",
       "  <tbody>\n",
       "    <tr>\n",
       "      <th>count</th>\n",
       "      <td>529.000000</td>\n",
       "      <td>529.000000</td>\n",
       "      <td>529.000000</td>\n",
       "      <td>529.000000</td>\n",
       "      <td>529.000000</td>\n",
       "      <td>5.290000e+02</td>\n",
       "      <td>529.0</td>\n",
       "    </tr>\n",
       "    <tr>\n",
       "      <th>mean</th>\n",
       "      <td>90.506616</td>\n",
       "      <td>109.128544</td>\n",
       "      <td>3.196597</td>\n",
       "      <td>2.419660</td>\n",
       "      <td>1.971645</td>\n",
       "      <td>1.529691e+09</td>\n",
       "      <td>2.0</td>\n",
       "    </tr>\n",
       "    <tr>\n",
       "      <th>std</th>\n",
       "      <td>30.981918</td>\n",
       "      <td>41.984558</td>\n",
       "      <td>0.804290</td>\n",
       "      <td>0.716203</td>\n",
       "      <td>0.515984</td>\n",
       "      <td>3.469883e+08</td>\n",
       "      <td>0.0</td>\n",
       "    </tr>\n",
       "    <tr>\n",
       "      <th>min</th>\n",
       "      <td>31.000000</td>\n",
       "      <td>31.000000</td>\n",
       "      <td>1.000000</td>\n",
       "      <td>1.000000</td>\n",
       "      <td>1.000000</td>\n",
       "      <td>9.900000e+08</td>\n",
       "      <td>2.0</td>\n",
       "    </tr>\n",
       "    <tr>\n",
       "      <th>25%</th>\n",
       "      <td>73.000000</td>\n",
       "      <td>79.000000</td>\n",
       "      <td>3.000000</td>\n",
       "      <td>2.000000</td>\n",
       "      <td>2.000000</td>\n",
       "      <td>1.210000e+09</td>\n",
       "      <td>2.0</td>\n",
       "    </tr>\n",
       "    <tr>\n",
       "      <th>50%</th>\n",
       "      <td>90.000000</td>\n",
       "      <td>100.000000</td>\n",
       "      <td>3.000000</td>\n",
       "      <td>2.000000</td>\n",
       "      <td>2.000000</td>\n",
       "      <td>1.500000e+09</td>\n",
       "      <td>2.0</td>\n",
       "    </tr>\n",
       "    <tr>\n",
       "      <th>75%</th>\n",
       "      <td>105.000000</td>\n",
       "      <td>136.000000</td>\n",
       "      <td>3.000000</td>\n",
       "      <td>3.000000</td>\n",
       "      <td>2.000000</td>\n",
       "      <td>1.700003e+09</td>\n",
       "      <td>2.0</td>\n",
       "    </tr>\n",
       "    <tr>\n",
       "      <th>max</th>\n",
       "      <td>200.000000</td>\n",
       "      <td>262.000000</td>\n",
       "      <td>10.000000</td>\n",
       "      <td>4.000000</td>\n",
       "      <td>5.000000</td>\n",
       "      <td>2.325000e+09</td>\n",
       "      <td>2.0</td>\n",
       "    </tr>\n",
       "  </tbody>\n",
       "</table>\n",
       "</div>"
      ],
      "text/plain": [
       "       luas_tanah  luas_bangunan  kamar_tidur  kamar_mandi      lantai  \\\n",
       "count  529.000000     529.000000   529.000000   529.000000  529.000000   \n",
       "mean    90.506616     109.128544     3.196597     2.419660    1.971645   \n",
       "std     30.981918      41.984558     0.804290     0.716203    0.515984   \n",
       "min     31.000000      31.000000     1.000000     1.000000    1.000000   \n",
       "25%     73.000000      79.000000     3.000000     2.000000    2.000000   \n",
       "50%     90.000000     100.000000     3.000000     2.000000    2.000000   \n",
       "75%    105.000000     136.000000     3.000000     3.000000    2.000000   \n",
       "max    200.000000     262.000000    10.000000     4.000000    5.000000   \n",
       "\n",
       "              harga  Cluster  \n",
       "count  5.290000e+02    529.0  \n",
       "mean   1.529691e+09      2.0  \n",
       "std    3.469883e+08      0.0  \n",
       "min    9.900000e+08      2.0  \n",
       "25%    1.210000e+09      2.0  \n",
       "50%    1.500000e+09      2.0  \n",
       "75%    1.700003e+09      2.0  \n",
       "max    2.325000e+09      2.0  "
      ]
     },
     "execution_count": 11,
     "metadata": {},
     "output_type": "execute_result"
    }
   ],
   "source": [
    "cluster2.describe()"
   ]
  },
  {
   "cell_type": "code",
   "execution_count": 12,
   "id": "10e8f2ea-4dc5-4839-9baa-8a7ddb2419d8",
   "metadata": {},
   "outputs": [
    {
     "data": {
      "text/html": [
       "<div>\n",
       "<style scoped>\n",
       "    .dataframe tbody tr th:only-of-type {\n",
       "        vertical-align: middle;\n",
       "    }\n",
       "\n",
       "    .dataframe tbody tr th {\n",
       "        vertical-align: top;\n",
       "    }\n",
       "\n",
       "    .dataframe thead th {\n",
       "        text-align: right;\n",
       "    }\n",
       "</style>\n",
       "<table border=\"1\" class=\"dataframe\">\n",
       "  <thead>\n",
       "    <tr style=\"text-align: right;\">\n",
       "      <th></th>\n",
       "      <th>luas_tanah</th>\n",
       "      <th>luas_bangunan</th>\n",
       "      <th>kamar_tidur</th>\n",
       "      <th>kamar_mandi</th>\n",
       "      <th>lantai</th>\n",
       "      <th>harga</th>\n",
       "      <th>Cluster</th>\n",
       "    </tr>\n",
       "  </thead>\n",
       "  <tbody>\n",
       "    <tr>\n",
       "      <th>count</th>\n",
       "      <td>234.000000</td>\n",
       "      <td>234.000000</td>\n",
       "      <td>234.000000</td>\n",
       "      <td>234.000000</td>\n",
       "      <td>234.000000</td>\n",
       "      <td>2.340000e+02</td>\n",
       "      <td>234.0</td>\n",
       "    </tr>\n",
       "    <tr>\n",
       "      <th>mean</th>\n",
       "      <td>130.235043</td>\n",
       "      <td>172.717949</td>\n",
       "      <td>4.081197</td>\n",
       "      <td>3.247863</td>\n",
       "      <td>2.072650</td>\n",
       "      <td>3.533003e+09</td>\n",
       "      <td>3.0</td>\n",
       "    </tr>\n",
       "    <tr>\n",
       "      <th>std</th>\n",
       "      <td>37.843141</td>\n",
       "      <td>47.412869</td>\n",
       "      <td>1.199888</td>\n",
       "      <td>1.091567</td>\n",
       "      <td>0.680081</td>\n",
       "      <td>1.031625e+09</td>\n",
       "      <td>0.0</td>\n",
       "    </tr>\n",
       "    <tr>\n",
       "      <th>min</th>\n",
       "      <td>48.000000</td>\n",
       "      <td>72.000000</td>\n",
       "      <td>1.000000</td>\n",
       "      <td>1.000000</td>\n",
       "      <td>1.000000</td>\n",
       "      <td>2.350000e+09</td>\n",
       "      <td>3.0</td>\n",
       "    </tr>\n",
       "    <tr>\n",
       "      <th>25%</th>\n",
       "      <td>100.250000</td>\n",
       "      <td>140.000000</td>\n",
       "      <td>3.000000</td>\n",
       "      <td>3.000000</td>\n",
       "      <td>2.000000</td>\n",
       "      <td>2.700000e+09</td>\n",
       "      <td>3.0</td>\n",
       "    </tr>\n",
       "    <tr>\n",
       "      <th>50%</th>\n",
       "      <td>132.000000</td>\n",
       "      <td>166.500000</td>\n",
       "      <td>4.000000</td>\n",
       "      <td>3.000000</td>\n",
       "      <td>2.000000</td>\n",
       "      <td>3.300000e+09</td>\n",
       "      <td>3.0</td>\n",
       "    </tr>\n",
       "    <tr>\n",
       "      <th>75%</th>\n",
       "      <td>150.750000</td>\n",
       "      <td>200.000000</td>\n",
       "      <td>5.000000</td>\n",
       "      <td>4.000000</td>\n",
       "      <td>2.000000</td>\n",
       "      <td>3.975000e+09</td>\n",
       "      <td>3.0</td>\n",
       "    </tr>\n",
       "    <tr>\n",
       "      <th>max</th>\n",
       "      <td>203.000000</td>\n",
       "      <td>265.000000</td>\n",
       "      <td>10.000000</td>\n",
       "      <td>9.000000</td>\n",
       "      <td>5.000000</td>\n",
       "      <td>6.500000e+09</td>\n",
       "      <td>3.0</td>\n",
       "    </tr>\n",
       "  </tbody>\n",
       "</table>\n",
       "</div>"
      ],
      "text/plain": [
       "       luas_tanah  luas_bangunan  kamar_tidur  kamar_mandi      lantai  \\\n",
       "count  234.000000     234.000000   234.000000   234.000000  234.000000   \n",
       "mean   130.235043     172.717949     4.081197     3.247863    2.072650   \n",
       "std     37.843141      47.412869     1.199888     1.091567    0.680081   \n",
       "min     48.000000      72.000000     1.000000     1.000000    1.000000   \n",
       "25%    100.250000     140.000000     3.000000     3.000000    2.000000   \n",
       "50%    132.000000     166.500000     4.000000     3.000000    2.000000   \n",
       "75%    150.750000     200.000000     5.000000     4.000000    2.000000   \n",
       "max    203.000000     265.000000    10.000000     9.000000    5.000000   \n",
       "\n",
       "              harga  Cluster  \n",
       "count  2.340000e+02    234.0  \n",
       "mean   3.533003e+09      3.0  \n",
       "std    1.031625e+09      0.0  \n",
       "min    2.350000e+09      3.0  \n",
       "25%    2.700000e+09      3.0  \n",
       "50%    3.300000e+09      3.0  \n",
       "75%    3.975000e+09      3.0  \n",
       "max    6.500000e+09      3.0  "
      ]
     },
     "execution_count": 12,
     "metadata": {},
     "output_type": "execute_result"
    }
   ],
   "source": [
    "cluster3.describe()"
   ]
  },
  {
   "cell_type": "markdown",
   "id": "35bcb02e-6736-4bb8-bd31-3151116b8ef4",
   "metadata": {},
   "source": [
    "<h1>Harga<h1>"
   ]
  },
  {
   "cell_type": "code",
   "execution_count": 13,
   "id": "23c61737-75b3-41d2-9c7e-1a2c33bccc48",
   "metadata": {},
   "outputs": [
    {
     "data": {
      "image/png": "[encoded data removed]",
      "text/plain": [
       "<Figure size 640x480 with 1 Axes>"
      ]
     },
     "metadata": {},
     "output_type": "display_data"
    },
    {
     "data": {
      "text/plain": [
       "<ggplot: (151717949178)>"
      ]
     },
     "execution_count": 13,
     "metadata": {},
     "output_type": "execute_result"
    }
   ],
   "source": [
    "from plotnine import ggplot, aes, geom_point\n",
    "(ggplot(df, aes(x = 'luas_tanah', y = 'harga', color = 'Cluster')) + geom_point())"
   ]
  },
  {
   "cell_type": "code",
   "execution_count": 14,
   "id": "6aa244b0-ac22-4db5-918d-466f5a9b8f92",
   "metadata": {},
   "outputs": [
    {
     "data": {
      "text/plain": [
       "count    7.850000e+02\n",
       "mean     5.674853e+08\n",
       "std      2.134808e+08\n",
       "min      1.500000e+08\n",
       "25%      4.675365e+08\n",
       "50%      5.500000e+08\n",
       "75%      7.610000e+08\n",
       "max      9.823000e+08\n",
       "Name: harga, dtype: float64"
      ]
     },
     "execution_count": 14,
     "metadata": {},
     "output_type": "execute_result"
    }
   ],
   "source": [
    "cluster1['harga'].describe()"
   ]
  },
  {
   "cell_type": "code",
   "execution_count": 15,
   "id": "9b9c4047-cce3-4eb0-89ff-e96fe0bc081c",
   "metadata": {},
   "outputs": [
    {
     "data": {
      "image/png": "[encoded data removed]",
      "text/plain": [
       "<Figure size 720x360 with 1 Axes>"
      ]
     },
     "metadata": {
      "needs_background": "light"
     },
     "output_type": "display_data"
    }
   ],
   "source": [
    "plt.figure(figsize=(10,5))\n",
    "plt.hist(cluster1['harga'], bins=5)\n",
    "plt.title('Harga Cluster 1')\n",
    "plt.savefig('Cluster_1/Histogram harga cluster 1.jpg', bbox_inches='tight')\n",
    "plt.show()"
   ]
  },
  {
   "cell_type": "code",
   "execution_count": 16,
   "id": "b1fd8fcd-4c92-418a-a38f-b801e258b02d",
   "metadata": {},
   "outputs": [
    {
     "data": {
      "text/plain": [
       "count    5.290000e+02\n",
       "mean     1.529691e+09\n",
       "std      3.469883e+08\n",
       "min      9.900000e+08\n",
       "25%      1.210000e+09\n",
       "50%      1.500000e+09\n",
       "75%      1.700003e+09\n",
       "max      2.325000e+09\n",
       "Name: harga, dtype: float64"
      ]
     },
     "execution_count": 16,
     "metadata": {},
     "output_type": "execute_result"
    }
   ],
   "source": [
    "cluster2['harga'].describe()"
   ]
  },
  {
   "cell_type": "code",
   "execution_count": 17,
   "id": "ab54912c-7852-447b-93a4-0f1190e78709",
   "metadata": {},
   "outputs": [
    {
     "data": {
      "image/png": "[encoded data removed]",
      "text/plain": [
       "<Figure size 720x360 with 1 Axes>"
      ]
     },
     "metadata": {
      "needs_background": "light"
     },
     "output_type": "display_data"
    }
   ],
   "source": [
    "plt.figure(figsize=(10,5))\n",
    "plt.hist(cluster2['harga'], bins=5)\n",
    "plt.title('Harga Cluster 2')\n",
    "plt.savefig('Cluster_2/Histogram harga cluster 2.jpg', bbox_inches='tight')\n",
    "plt.show()"
   ]
  },
  {
   "cell_type": "code",
   "execution_count": 18,
   "id": "ad691dda-58f3-4494-ba90-378d444bf0d6",
   "metadata": {},
   "outputs": [
    {
     "data": {
      "text/plain": [
       "count    2.340000e+02\n",
       "mean     3.533003e+09\n",
       "std      1.031625e+09\n",
       "min      2.350000e+09\n",
       "25%      2.700000e+09\n",
       "50%      3.300000e+09\n",
       "75%      3.975000e+09\n",
       "max      6.500000e+09\n",
       "Name: harga, dtype: float64"
      ]
     },
     "execution_count": 18,
     "metadata": {},
     "output_type": "execute_result"
    }
   ],
   "source": [
    "cluster3['harga'].describe()"
   ]
  },
  {
   "cell_type": "code",
   "execution_count": 19,
   "id": "dd926a56-6f70-4cf1-b104-4b008468ed76",
   "metadata": {},
   "outputs": [
    {
     "data": {
      "image/png": "[encoded data removed]",
      "text/plain": [
       "<Figure size 720x360 with 1 Axes>"
      ]
     },
     "metadata": {
      "needs_background": "light"
     },
     "output_type": "display_data"
    }
   ],
   "source": [
    "plt.figure(figsize=(10,5))\n",
    "plt.hist(cluster3['harga'], bins=5)\n",
    "plt.title('Harga Cluster 3')\n",
    "plt.savefig('Cluster_3/Histogram harga cluster 3.jpg', bbox_inches='tight')\n",
    "plt.show()"
   ]
  },
  {
   "cell_type": "markdown",
   "id": "50875bdb-b1a1-4b73-a1c9-596e3f56f620",
   "metadata": {},
   "source": [
    "<p>Jika dilihat dari atribut harga, ketiga cluster yang sudah dibuat dapat dideskripsikan sebagai berikut:<p>\n",
    "    \n",
    "<p>Cluster 1 merupakan cluster dengan harga paling rendah yaitu berada pada rentang Rp 150.000.000 - Rp 982.300.000. Namun jika dilihat dari persebaran datanya melalui histogram, rumah pada cluster 1 paling banyak berada pada rentang harga Rp 450.000.000 - Rp 650.000.000.<p>\n",
    "    \n",
    "<p>Cluster 2 merupakan cluster dengan harga menengah yaitu berada pada rentang Rp 990.000.000 - Rp 2.325.000.000. Namun jika dilihat dari persebaran datanya melalui histogram, rumah pada cluster 2 paling banyak berada pada rentang harga Rp 990.000.000 - Rp 1.800.000.000.<p>\n",
    "    \n",
    "<p>Cluster 3 merupakan cluster dengan harga paling tinggi yaitu berada pada rentang Rp 2.350.000.000 - Rp 6.500.000.000. Namun jika dilihat dari persebaran datanya melalui histogram, rumah pada cluster 3 paling banyak berada pada rentang harga Rp 2.350.000.000 - Rp 4.000.000.000."
   ]
  },
  {
   "cell_type": "markdown",
   "id": "042e252c-0501-4d45-9914-1e3898bf8c52",
   "metadata": {},
   "source": [
    "<h1>Luas Tanah<h1>"
   ]
  },
  {
   "cell_type": "code",
   "execution_count": 20,
   "id": "9a50836e-2ecd-48f6-ab0a-ead784d7fe65",
   "metadata": {},
   "outputs": [
    {
     "data": {
      "text/plain": [
       "count    785.000000\n",
       "mean      63.969427\n",
       "std       20.389300\n",
       "min       21.000000\n",
       "25%       60.000000\n",
       "50%       60.000000\n",
       "75%       78.000000\n",
       "max      151.000000\n",
       "Name: luas_tanah, dtype: float64"
      ]
     },
     "execution_count": 20,
     "metadata": {},
     "output_type": "execute_result"
    }
   ],
   "source": [
    "cluster1['luas_tanah'].describe()"
   ]
  },
  {
   "cell_type": "code",
   "execution_count": 21,
   "id": "4c31e8cf-9da7-4c7e-b004-7fe8ddd665f9",
   "metadata": {},
   "outputs": [
    {
     "data": {
      "image/png": "[encoded data removed]",
      "text/plain": [
       "<Figure size 720x360 with 1 Axes>"
      ]
     },
     "metadata": {
      "needs_background": "light"
     },
     "output_type": "display_data"
    }
   ],
   "source": [
    "plt.figure(figsize=(10,5))\n",
    "plt.hist(cluster1['luas_tanah'], bins=5)\n",
    "plt.title('Luas Tanah Cluster 1')\n",
    "plt.savefig('Cluster_1/Histogram luas tanah cluster 1.jpg', bbox_inches='tight')\n",
    "plt.show()"
   ]
  },
  {
   "cell_type": "code",
   "execution_count": 22,
   "id": "2ed817a0-b75c-4e09-912d-f6c13ad5b592",
   "metadata": {},
   "outputs": [
    {
     "data": {
      "text/plain": [
       "count    529.000000\n",
       "mean      90.506616\n",
       "std       30.981918\n",
       "min       31.000000\n",
       "25%       73.000000\n",
       "50%       90.000000\n",
       "75%      105.000000\n",
       "max      200.000000\n",
       "Name: luas_tanah, dtype: float64"
      ]
     },
     "execution_count": 22,
     "metadata": {},
     "output_type": "execute_result"
    }
   ],
   "source": [
    "cluster2['luas_tanah'].describe()"
   ]
  },
  {
   "cell_type": "code",
   "execution_count": 23,
   "id": "72d3b73c-a054-4afe-8349-c0f14b32d311",
   "metadata": {},
   "outputs": [
    {
     "data": {
      "image/png": "[encoded data removed]",
      "text/plain": [
       "<Figure size 720x360 with 1 Axes>"
      ]
     },
     "metadata": {
      "needs_background": "light"
     },
     "output_type": "display_data"
    }
   ],
   "source": [
    "plt.figure(figsize=(10,5))\n",
    "plt.hist(cluster2['luas_tanah'], bins=5)\n",
    "plt.title('Luas Tanah Cluster 2')\n",
    "plt.savefig('Cluster_2/Histogram luas tanah cluster 2.jpg', bbox_inches='tight')\n",
    "plt.show()"
   ]
  },
  {
   "cell_type": "code",
   "execution_count": 24,
   "id": "ef9693a2-d2ac-4d9d-bea9-07e296844733",
   "metadata": {},
   "outputs": [
    {
     "data": {
      "text/plain": [
       "count    234.000000\n",
       "mean     130.235043\n",
       "std       37.843141\n",
       "min       48.000000\n",
       "25%      100.250000\n",
       "50%      132.000000\n",
       "75%      150.750000\n",
       "max      203.000000\n",
       "Name: luas_tanah, dtype: float64"
      ]
     },
     "execution_count": 24,
     "metadata": {},
     "output_type": "execute_result"
    }
   ],
   "source": [
    "cluster3['luas_tanah'].describe()"
   ]
  },
  {
   "cell_type": "code",
   "execution_count": 25,
   "id": "128c74d9-6e8e-4efb-8d81-60504879af6d",
   "metadata": {},
   "outputs": [
    {
     "data": {
      "image/png": "[encoded data removed]",
      "text/plain": [
       "<Figure size 720x360 with 1 Axes>"
      ]
     },
     "metadata": {
      "needs_background": "light"
     },
     "output_type": "display_data"
    }
   ],
   "source": [
    "plt.figure(figsize=(10,5))\n",
    "plt.hist(cluster3['luas_tanah'], bins=5)\n",
    "plt.title('Luas Tanah Cluster 3')\n",
    "plt.savefig('Cluster_3/Histogram luas tanah cluster 3.jpg', bbox_inches='tight')\n",
    "plt.show()"
   ]
  },
  {
   "cell_type": "markdown",
   "id": "bb732b7e-7f3b-421f-8497-de36b0aa0054",
   "metadata": {},
   "source": [
    "<p> Jika dilihat dari atribut luas tanah, ketiga cluster yang sudah dibuat dapat dideskripsikan sebagai berikut:<p>\n",
    "\n",
    "<p>Cluster 1 merupakan cluster dengan luas tanah terkecil dengan rentang luas tanah 21 m<sup>2</sup> - 151 m<sup>2</sup>. Namun jika dilihat sebaran datanya melalui histogram, rumah pada cluster 1 paling banyak berada pada rentang luas tanah 45 m<sup>2</sup> - 75 m<sup>2</sup>.<p>\n",
    "    \n",
    "<p>Cluster 2 merupakan cluster dengan luas tanah menengah dengan rentang luas tanah 31 m<sup>2</sup> - 200 m<sup>2</sup>. Namun jika dilihat dari sebaran datanya melalui histogram, rumah pada cluster 2 paling banyak berada pada rentang luas tanah 60 m<sup>2</sup> - 100 m<sup>2</sup>.<p>\n",
    "    \n",
    "<p>Cluster 3 merupakan cluster dengan luas tanah tertinggi dengan rentang luas tanah 48 m<sup>2</sup> - 203 m<sup>2</sup>. Namun jika dilihat dari sebaran datanya melalui histogram, rumah pada cluster 3 paling banyak berada pada rentang luas tanah 80 m<sup>2</sup> - 140 m<sup>2</sup>.<p>"
   ]
  },
  {
   "cell_type": "markdown",
   "id": "0d3b7501-4e99-4422-8232-ca115b756ce9",
   "metadata": {},
   "source": [
    "<h1>Luas Bangunan<h1>"
   ]
  },
  {
   "cell_type": "code",
   "execution_count": 26,
   "id": "f847e6ef-af01-42f2-b40d-e0fd517aef03",
   "metadata": {},
   "outputs": [
    {
     "data": {
      "text/plain": [
       "count    785.000000\n",
       "mean      53.262420\n",
       "std       20.247195\n",
       "min       21.000000\n",
       "25%       38.000000\n",
       "50%       50.000000\n",
       "75%       64.000000\n",
       "max      172.000000\n",
       "Name: luas_bangunan, dtype: float64"
      ]
     },
     "execution_count": 26,
     "metadata": {},
     "output_type": "execute_result"
    }
   ],
   "source": [
    "cluster1['luas_bangunan'].describe()"
   ]
  },
  {
   "cell_type": "code",
   "execution_count": 27,
   "id": "5032ac59-b6b9-4796-8032-b0b6132f9c3d",
   "metadata": {},
   "outputs": [
    {
     "data": {
      "image/png": "[encoded data removed]",
      "text/plain": [
       "<Figure size 720x360 with 1 Axes>"
      ]
     },
     "metadata": {
      "needs_background": "light"
     },
     "output_type": "display_data"
    }
   ],
   "source": [
    "plt.figure(figsize=(10,5))\n",
    "plt.hist(cluster1['luas_bangunan'], bins=5)\n",
    "plt.title('Luas Bangunan Cluster 1')\n",
    "plt.savefig('Cluster_1/Histogram luas bangunan cluster 1.jpg', bbox_inches='tight')\n",
    "plt.show()"
   ]
  },
  {
   "cell_type": "code",
   "execution_count": 28,
   "id": "f22c13d9-8fd4-4f1c-9741-8a1bb96f48f0",
   "metadata": {},
   "outputs": [
    {
     "data": {
      "text/plain": [
       "count    529.000000\n",
       "mean     109.128544\n",
       "std       41.984558\n",
       "min       31.000000\n",
       "25%       79.000000\n",
       "50%      100.000000\n",
       "75%      136.000000\n",
       "max      262.000000\n",
       "Name: luas_bangunan, dtype: float64"
      ]
     },
     "execution_count": 28,
     "metadata": {},
     "output_type": "execute_result"
    }
   ],
   "source": [
    "cluster2['luas_bangunan'].describe()"
   ]
  },
  {
   "cell_type": "code",
   "execution_count": 29,
   "id": "b4758eec-e8f9-4540-a308-356401fce626",
   "metadata": {},
   "outputs": [
    {
     "data": {
      "image/png": "[encoded data removed]",
      "text/plain": [
       "<Figure size 720x360 with 1 Axes>"
      ]
     },
     "metadata": {
      "needs_background": "light"
     },
     "output_type": "display_data"
    }
   ],
   "source": [
    "plt.figure(figsize=(10,5))\n",
    "plt.hist(cluster2['luas_bangunan'], bins=5)\n",
    "plt.title('Luas Bangunan Cluster 2')\n",
    "plt.savefig('Cluster_2/Histogram luas bangunan cluster 2.jpg', bbox_inches='tight')\n",
    "plt.show()"
   ]
  },
  {
   "cell_type": "code",
   "execution_count": 30,
   "id": "7ddf6f87-cdfa-4ac8-b256-cf972bda2891",
   "metadata": {},
   "outputs": [
    {
     "data": {
      "text/plain": [
       "count    234.000000\n",
       "mean     172.717949\n",
       "std       47.412869\n",
       "min       72.000000\n",
       "25%      140.000000\n",
       "50%      166.500000\n",
       "75%      200.000000\n",
       "max      265.000000\n",
       "Name: luas_bangunan, dtype: float64"
      ]
     },
     "execution_count": 30,
     "metadata": {},
     "output_type": "execute_result"
    }
   ],
   "source": [
    "cluster3['luas_bangunan'].describe()"
   ]
  },
  {
   "cell_type": "code",
   "execution_count": 31,
   "id": "dbf7a83d-414d-4bdb-a300-5dfa9414a88d",
   "metadata": {},
   "outputs": [
    {
     "data": {
      "image/png": "[encoded data removed]",
      "text/plain": [
       "<Figure size 720x360 with 1 Axes>"
      ]
     },
     "metadata": {
      "needs_background": "light"
     },
     "output_type": "display_data"
    }
   ],
   "source": [
    "plt.figure(figsize=(10,5))\n",
    "plt.hist(cluster3['luas_bangunan'], bins=5)\n",
    "plt.title('Luas Bangunan Cluster 3')\n",
    "plt.savefig('Cluster_3/Histogram luas bangunan cluster 3.jpg', bbox_inches='tight')\n",
    "plt.show()"
   ]
  },
  {
   "cell_type": "markdown",
   "id": "b63f5173-673a-46c6-bd47-f711287a8bc7",
   "metadata": {},
   "source": [
    "<p> Jika dilihat dari atribut luas bangunan, ketiga cluster yang sudah dibuat dapat dideskripsikan sebagai berikut:<p>\n",
    "\n",
    "<p>Cluster 1 merupakan cluster dengan luas bangunan terkecil dengan rentang luas bangunan 21 m<sup>2</sup> - 172 m<sup>2</sup>. Namun jika dilihat sebaran datanya melalui histogram, rumah pada cluster 1 paling banyak berada pada rentang luas tanah 21 m<sup>2</sup> - 50 m<sup>2</sup>.<p>\n",
    "    \n",
    "<p>Cluster 2 merupakan cluster dengan luas tanah menengah dengan rentang luas tanah 31 m<sup>2</sup> - 262 m<sup>2</sup>. Namun jika dilihat dari sebaran datanya melalui histogram, rumah pada cluster 2 paling banyak berada pada rentang luas tanah 75 m<sup>2</sup> - 125 m<sup>2</sup>.<p>\n",
    "    \n",
    "<p>Cluster 3 merupakan cluster dengan luas tanah tertinggi dengan rentang luas tanah 72 m<sup>2</sup> - 265 m<sup>2</sup>. Namun jika dilihat dari sebaran datanya melalui histogram, rumah pada cluster 3 paling banyak berada pada rentang luas tanah 110 m<sup>2</sup> - 225 m<sup>2</sup>.<p>"
   ]
  },
  {
   "cell_type": "markdown",
   "id": "4cf6fe3a-fcf9-44e9-b8b8-50dd844e6bc7",
   "metadata": {},
   "source": [
    "<h1>Kamar Tidur<h1>"
   ]
  },
  {
   "cell_type": "code",
   "execution_count": 32,
   "id": "69254963-61b0-4e7d-a94f-bf9b82f3ec2d",
   "metadata": {},
   "outputs": [
    {
     "data": {
      "text/plain": [
       "count    785.000000\n",
       "mean       2.384713\n",
       "std        0.616334\n",
       "min        1.000000\n",
       "25%        2.000000\n",
       "50%        2.000000\n",
       "75%        3.000000\n",
       "max       10.000000\n",
       "Name: kamar_tidur, dtype: float64"
      ]
     },
     "execution_count": 32,
     "metadata": {},
     "output_type": "execute_result"
    }
   ],
   "source": [
    "cluster1['kamar_tidur'].describe()"
   ]
  },
  {
   "cell_type": "code",
   "execution_count": 33,
   "id": "b49356f2-3fec-40b7-90c2-160565404bfd",
   "metadata": {},
   "outputs": [
    {
     "data": {
      "image/png": "[encoded data removed]",
      "text/plain": [
       "<Figure size 720x360 with 1 Axes>"
      ]
     },
     "metadata": {
      "needs_background": "light"
     },
     "output_type": "display_data"
    }
   ],
   "source": [
    "plt.figure(figsize=(10,5))\n",
    "plt.hist(cluster1['kamar_tidur'], bins=5, range=(0,10))\n",
    "plt.title('Kamar Tidur Cluster 1')\n",
    "plt.savefig('Cluster_1/Histogram kamar tidur cluster 1.jpg', bbox_inches='tight')\n",
    "plt.show()"
   ]
  },
  {
   "cell_type": "code",
   "execution_count": 34,
   "id": "a9068635-8b6d-4542-bd87-cb578d37e68f",
   "metadata": {},
   "outputs": [
    {
     "data": {
      "text/plain": [
       "count    529.000000\n",
       "mean       3.196597\n",
       "std        0.804290\n",
       "min        1.000000\n",
       "25%        3.000000\n",
       "50%        3.000000\n",
       "75%        3.000000\n",
       "max       10.000000\n",
       "Name: kamar_tidur, dtype: float64"
      ]
     },
     "execution_count": 34,
     "metadata": {},
     "output_type": "execute_result"
    }
   ],
   "source": [
    "cluster2['kamar_tidur'].describe()"
   ]
  },
  {
   "cell_type": "code",
   "execution_count": 35,
   "id": "9a7fc565-f64c-4a8a-bf78-e293de1678e5",
   "metadata": {},
   "outputs": [
    {
     "data": {
      "image/png": "[encoded data removed]",
      "text/plain": [
       "<Figure size 720x360 with 1 Axes>"
      ]
     },
     "metadata": {
      "needs_background": "light"
     },
     "output_type": "display_data"
    }
   ],
   "source": [
    "plt.figure(figsize=(10,5))\n",
    "plt.hist(cluster2['kamar_tidur'], bins=5, range=(0,10))\n",
    "plt.title('Kamar Tidur Cluster 2')\n",
    "plt.savefig('Cluster_2/Histogram kamar tidur cluster 2.jpg', bbox_inches='tight')\n",
    "plt.show()"
   ]
  },
  {
   "cell_type": "code",
   "execution_count": 36,
   "id": "bba650e1-3060-4efa-852d-7567c39ba7db",
   "metadata": {},
   "outputs": [
    {
     "data": {
      "text/plain": [
       "count    234.000000\n",
       "mean       4.081197\n",
       "std        1.199888\n",
       "min        1.000000\n",
       "25%        3.000000\n",
       "50%        4.000000\n",
       "75%        5.000000\n",
       "max       10.000000\n",
       "Name: kamar_tidur, dtype: float64"
      ]
     },
     "execution_count": 36,
     "metadata": {},
     "output_type": "execute_result"
    }
   ],
   "source": [
    "cluster3['kamar_tidur'].describe()"
   ]
  },
  {
   "cell_type": "code",
   "execution_count": 37,
   "id": "527cb8e8-62a9-4b8a-a100-d55c50bcbdc9",
   "metadata": {},
   "outputs": [
    {
     "data": {
      "image/png": "[encoded data removed]",
      "text/plain": [
       "<Figure size 720x360 with 1 Axes>"
      ]
     },
     "metadata": {
      "needs_background": "light"
     },
     "output_type": "display_data"
    }
   ],
   "source": [
    "plt.figure(figsize=(10,5))\n",
    "plt.hist(cluster3['kamar_tidur'], bins=5, range=(0,10))\n",
    "plt.title('Kamar Tidur Cluster 3')\n",
    "plt.savefig('Cluster_3/Histogram kamar tidur cluster 3.jpg', bbox_inches='tight')\n",
    "plt.show()"
   ]
  },
  {
   "cell_type": "markdown",
   "id": "de063c1c-b691-4d9f-87d7-6947392ef803",
   "metadata": {},
   "source": [
    "<p>Jika dilihat dari atribut kamar tidur, ketiga cluster yang telah dibuat dapat dideskripsikan sebagai berikut:<p>\n",
    " \n",
    "<p>Mayoritas rumah pada cluster 1, yaitu sekitar 700 rumah, memiliki kamar tidur dengan rentang 2-4 kamar tidur. Sedangkan sangat sedikit rumah pada cluster 1 yang memiliki dibawah 2 kamar tidur dan diatas 4 kamar tidur.<p>\n",
    "    \n",
    "<p>Mayoritas rumah pada cluster 2, yaitu sekitar 400 rumah, memiliki kamar tidur dengan rentang 2-4 kamar tidur. Lalu sekitar 100 rumah memiliki kamar tidur dengan rentang 4-6 kamar tidur. Sedangkan sangat sedikit rumah pada cluster 2 yang memiliki dibawah 2 kamar tidur dan diatas 6 kamar tidur.<p>\n",
    "    \n",
    "<p>Mayoritas rumah pada pada cluster 3, yaitu sekitar 160 rumah, memiliki kamar tidur dengan rentang 4-6 kamar tidur. Sekitar 60 rumah memiliki kamar tidur dengan rentang 2-4 kamar tidur. Sedangkan sangat sedikit rumah pada cluster 3 yang memiliki dibawah 2 kamar tidur dan diatas 6 kamar tidur.<p>"
   ]
  },
  {
   "cell_type": "markdown",
   "id": "55e685af-991e-4bb3-bf1a-a2f6fb77ee6b",
   "metadata": {},
   "source": [
    "<h1>Kamar Mandi<h1>"
   ]
  },
  {
   "cell_type": "code",
   "execution_count": 38,
   "id": "aca74c0f-bdfa-4d79-b615-675bbcbf67d2",
   "metadata": {},
   "outputs": [
    {
     "data": {
      "text/plain": [
       "count    785.000000\n",
       "mean       1.569427\n",
       "std        0.641334\n",
       "min        1.000000\n",
       "25%        1.000000\n",
       "50%        1.000000\n",
       "75%        2.000000\n",
       "max        4.000000\n",
       "Name: kamar_mandi, dtype: float64"
      ]
     },
     "execution_count": 38,
     "metadata": {},
     "output_type": "execute_result"
    }
   ],
   "source": [
    "cluster1['kamar_mandi'].describe()"
   ]
  },
  {
   "cell_type": "code",
   "execution_count": 39,
   "id": "01e1cd4e-a0a1-488f-8a9a-a23bd78d3655",
   "metadata": {},
   "outputs": [
    {
     "data": {
      "image/png": "[encoded data removed]",
      "text/plain": [
       "<Figure size 720x360 with 1 Axes>"
      ]
     },
     "metadata": {
      "needs_background": "light"
     },
     "output_type": "display_data"
    }
   ],
   "source": [
    "plt.figure(figsize=(10,5))\n",
    "plt.hist(cluster1['kamar_mandi'], bins=5, range=(0,10))\n",
    "plt.title('Kamar Mandi Cluster 1')\n",
    "plt.savefig('Cluster_1/Histogram kamar mandi cluster 1.jpg', bbox_inches='tight')\n",
    "plt.show()"
   ]
  },
  {
   "cell_type": "code",
   "execution_count": 40,
   "id": "1ceeff2e-0ab3-401b-8044-3023bda2ffa9",
   "metadata": {},
   "outputs": [
    {
     "data": {
      "text/plain": [
       "count    529.000000\n",
       "mean       2.419660\n",
       "std        0.716203\n",
       "min        1.000000\n",
       "25%        2.000000\n",
       "50%        2.000000\n",
       "75%        3.000000\n",
       "max        4.000000\n",
       "Name: kamar_mandi, dtype: float64"
      ]
     },
     "execution_count": 40,
     "metadata": {},
     "output_type": "execute_result"
    }
   ],
   "source": [
    "cluster2['kamar_mandi'].describe()"
   ]
  },
  {
   "cell_type": "code",
   "execution_count": 41,
   "id": "fe82f110-1822-46c3-a028-095872a5f1fd",
   "metadata": {},
   "outputs": [
    {
     "data": {
      "image/png": "[encoded data removed]",
      "text/plain": [
       "<Figure size 720x360 with 1 Axes>"
      ]
     },
     "metadata": {
      "needs_background": "light"
     },
     "output_type": "display_data"
    }
   ],
   "source": [
    "plt.figure(figsize=(10,5))\n",
    "plt.hist(cluster2['kamar_mandi'], bins=5, range=(0,10))\n",
    "plt.title('Kamar Mandi Cluster 2')\n",
    "plt.savefig('Cluster_2/Histogram kamar mandi cluster 2.jpg', bbox_inches='tight')\n",
    "plt.show()"
   ]
  },
  {
   "cell_type": "code",
   "execution_count": 42,
   "id": "ecc54fbb-2bca-412c-82d3-b8b68004f816",
   "metadata": {},
   "outputs": [
    {
     "data": {
      "text/plain": [
       "count    234.000000\n",
       "mean       3.247863\n",
       "std        1.091567\n",
       "min        1.000000\n",
       "25%        3.000000\n",
       "50%        3.000000\n",
       "75%        4.000000\n",
       "max        9.000000\n",
       "Name: kamar_mandi, dtype: float64"
      ]
     },
     "execution_count": 42,
     "metadata": {},
     "output_type": "execute_result"
    }
   ],
   "source": [
    "cluster3['kamar_mandi'].describe()"
   ]
  },
  {
   "cell_type": "code",
   "execution_count": 43,
   "id": "6846ec74-6cdc-4e8d-91b9-10b611057e4b",
   "metadata": {},
   "outputs": [
    {
     "data": {
      "image/png": "[encoded data removed]",
      "text/plain": [
       "<Figure size 720x360 with 1 Axes>"
      ]
     },
     "metadata": {
      "needs_background": "light"
     },
     "output_type": "display_data"
    }
   ],
   "source": [
    "plt.figure(figsize=(10,5))\n",
    "plt.hist(cluster3['kamar_mandi'], bins=5, range=(0,10))\n",
    "plt.title('Kamar Mandi Cluster 3')\n",
    "plt.savefig('Cluster_3/Histogram kamar mandi cluster 3.jpg', bbox_inches='tight')\n",
    "plt.show()"
   ]
  },
  {
   "cell_type": "markdown",
   "id": "2162b2a6-107f-4c00-a675-2e6de7c02810",
   "metadata": {},
   "source": [
    "<p>Jika dilihat dari atribut kamar mandi, ketiga cluster yang telah dibuat dapat dideskripsikan sebagai berikut:<p>\n",
    "    \n",
    "<p>Mayoritas rumah pada cluster 1, yaitu sekitar 300-400 rumah memiliki kamar mandi dengan rentang 1-4 kamar mandi. Terdapat beberapa rumah pada cluster 1 yang memiliki kamar mandi dengan rentang 4-6 kamar mandi namun sangat sedikit. Sedangkan tidak ada rumah pada cluster 1 yang memiliki diatas 6 kamar mandi.<p>\n",
    "    \n",
    "<p>Mayoritas rumah pada cluster 3, yaitu lebih dari 400 rumah, memiliki kamar mandi dengan rentang 2-4 kamar mandi. Terdapat beberapa rumah pada cluster 2 yang memiliki 1-2 kamar mandi dan 4-6 kamar mandi, namun sangat sedikit. Sedangkan tidak ada rumah pada cluster 2 yang memiliki diatas 6 kamar mandi.<p>\n",
    "    \n",
    "<p>Mayoritas rumah pada cluster 3, yaitu sekitar 140 rumah, memiliki kamar mandi dengan rentang 2-4 kamar mandi. Lalu sekitar 80 rumah memiliki kamar mandi dengan rentang 4-6 kamar mandi. Namun sangat sedikit rumah pada cluster 3 yang memiliki dibawah 2 kamar mandi dan diatas 6 kamar mandi."
   ]
  },
  {
   "cell_type": "markdown",
   "id": "e6cea20c-75d9-4542-b494-49ffa49d7ef8",
   "metadata": {},
   "source": [
    "<h1>Lantai<h1>\n"
   ]
  },
  {
   "cell_type": "code",
   "execution_count": 44,
   "id": "445f6e1b-948f-45ab-8685-76668002a0f4",
   "metadata": {},
   "outputs": [
    {
     "data": {
      "text/plain": [
       "count    785.000000\n",
       "mean       1.535032\n",
       "std        0.531275\n",
       "min        1.000000\n",
       "25%        1.000000\n",
       "50%        2.000000\n",
       "75%        2.000000\n",
       "max        4.000000\n",
       "Name: lantai, dtype: float64"
      ]
     },
     "execution_count": 44,
     "metadata": {},
     "output_type": "execute_result"
    }
   ],
   "source": [
    "cluster1['lantai'].describe()"
   ]
  },
  {
   "cell_type": "code",
   "execution_count": 45,
   "id": "2ae5b729-0aab-47d2-a24c-11a6c60a4c5d",
   "metadata": {},
   "outputs": [
    {
     "data": {
      "image/png": "[encoded data removed]",
      "text/plain": [
       "<Figure size 720x360 with 1 Axes>"
      ]
     },
     "metadata": {
      "needs_background": "light"
     },
     "output_type": "display_data"
    }
   ],
   "source": [
    "plt.figure(figsize=(10,5))\n",
    "plt.hist(cluster1['lantai'], bins=5, range=(0,5))\n",
    "plt.title('Lantai Cluster 1')\n",
    "plt.savefig('Cluster_1/Histogram lantai cluster 1.jpg', bbox_inches='tight')\n",
    "plt.show()"
   ]
  },
  {
   "cell_type": "code",
   "execution_count": 46,
   "id": "fded6f1d-f09d-4e53-a418-e4f8b1e3d485",
   "metadata": {},
   "outputs": [
    {
     "data": {
      "text/plain": [
       "count    529.000000\n",
       "mean       1.971645\n",
       "std        0.515984\n",
       "min        1.000000\n",
       "25%        2.000000\n",
       "50%        2.000000\n",
       "75%        2.000000\n",
       "max        5.000000\n",
       "Name: lantai, dtype: float64"
      ]
     },
     "execution_count": 46,
     "metadata": {},
     "output_type": "execute_result"
    }
   ],
   "source": [
    "cluster2['lantai'].describe()"
   ]
  },
  {
   "cell_type": "code",
   "execution_count": 47,
   "id": "ac11a699-6bc8-428e-8a11-b012da29dd5a",
   "metadata": {},
   "outputs": [
    {
     "data": {
      "image/png": "[encoded data removed]",
      "text/plain": [
       "<Figure size 720x360 with 1 Axes>"
      ]
     },
     "metadata": {
      "needs_background": "light"
     },
     "output_type": "display_data"
    }
   ],
   "source": [
    "plt.figure(figsize=(10,5))\n",
    "plt.hist(cluster2['lantai'], bins=5, range=(0,5))\n",
    "plt.title('Lantai Cluster 2')\n",
    "plt.savefig('Cluster_2/Histogram lantai cluster 2.jpg', bbox_inches='tight')\n",
    "plt.show()"
   ]
  },
  {
   "cell_type": "code",
   "execution_count": 48,
   "id": "3ff7ade2-2014-491c-8ef9-543544e8f9c0",
   "metadata": {},
   "outputs": [
    {
     "data": {
      "text/plain": [
       "count    234.000000\n",
       "mean       2.072650\n",
       "std        0.680081\n",
       "min        1.000000\n",
       "25%        2.000000\n",
       "50%        2.000000\n",
       "75%        2.000000\n",
       "max        5.000000\n",
       "Name: lantai, dtype: float64"
      ]
     },
     "execution_count": 48,
     "metadata": {},
     "output_type": "execute_result"
    }
   ],
   "source": [
    "cluster3['lantai'].describe()"
   ]
  },
  {
   "cell_type": "code",
   "execution_count": 49,
   "id": "558bb973-b8c0-4ca9-9cd5-c923d92f5608",
   "metadata": {},
   "outputs": [
    {
     "data": {
      "image/png": "[encoded data removed]",
      "text/plain": [
       "<Figure size 720x360 with 1 Axes>"
      ]
     },
     "metadata": {
      "needs_background": "light"
     },
     "output_type": "display_data"
    }
   ],
   "source": [
    "plt.figure(figsize=(10,5))\n",
    "plt.hist(cluster3['lantai'], bins=5, range=(0,5))\n",
    "plt.title('Lantai Cluster 3')\n",
    "plt.savefig('Cluster_3/Histogram lantai cluster 3.jpg', bbox_inches='tight')\n",
    "plt.show()"
   ]
  },
  {
   "cell_type": "markdown",
   "id": "8bc02763-add1-44c2-89b1-fafdd7978113",
   "metadata": {},
   "source": [
    "<p>Jika dilihat dari atribut lantai, ketiga cluster yang telah dibuat dapat dideskripsikan sebagai berikut:<p>\n",
    "    \n",
    "<p>Mayoritas rumah pada cluster 1 memiliki lantai dengan rentang 1-4 lantai. Sedangkan sangat sedikit rumah yang memiliki lantai diluar rentang 1-4 lantai.<p>\n",
    "    \n",
    "<p>Mayoritas rumah pada cluster 2 memiliki lantai dengan rentang 2-3 lantai. Beberapa rumah memiliki rentang 1-2 lantai dan 3-4 lantai. Sedangkan sangat sedikit rumah pada cluster 2 yang memiliki diatas 4 lantai.<p>\n",
    "    \n",
    "<p>Rumah pada cluster 3 memiliki ciri yang cukup serupa dengan cluster 3 jika dilihat dari sebaran atribut lantai.<p>"
   ]
  },
  {
   "cell_type": "markdown",
   "id": "ec37a778-2439-4a48-a136-f0c3446e1129",
   "metadata": {},
   "source": [
    "<h1>Lokasi<h1>"
   ]
  },
  {
   "cell_type": "code",
   "execution_count": 50,
   "id": "cc80c64d-2a2d-4f4f-8d4f-99c54d05959f",
   "metadata": {},
   "outputs": [
    {
     "data": {
      "image/png": "[encoded data removed]",
      "text/plain": [
       "<Figure size 720x360 with 1 Axes>"
      ]
     },
     "metadata": {
      "needs_background": "light"
     },
     "output_type": "display_data"
    }
   ],
   "source": [
    "plt.figure(figsize=(10,5))\n",
    "ax = sns.barplot(x=cluster1['kota'].value_counts().index, y=cluster1.kota.value_counts())\n",
    "plt.title('Kotamadya Cluster 1')\n",
    "plt.savefig('Cluster_1/Sebaran Kotamadya cluster 1.jpg', bbox_inches='tight')"
   ]
  },
  {
   "cell_type": "code",
   "execution_count": 51,
   "id": "deec40ad-25a7-4e22-9116-70ce7ae809bd",
   "metadata": {},
   "outputs": [
    {
     "data": {
      "image/png": "[encoded data removed]",
      "text/plain": [
       "<Figure size 720x360 with 1 Axes>"
      ]
     },
     "metadata": {
      "needs_background": "light"
     },
     "output_type": "display_data"
    }
   ],
   "source": [
    "plt.figure(figsize=(10,5))\n",
    "ax = sns.barplot(x=cluster2['kota'].value_counts().index, y=cluster2.kota.value_counts())\n",
    "plt.title('Kotamadya Cluster 2')\n",
    "plt.savefig('Cluster_2/Sebaran Kotamadya cluster 2.jpg', bbox_inches='tight')"
   ]
  },
  {
   "cell_type": "code",
   "execution_count": 52,
   "id": "4991c437-8049-4c84-bc39-883c931b7e9b",
   "metadata": {},
   "outputs": [
    {
     "data": {
      "image/png": "[encoded data removed]",
      "text/plain": [
       "<Figure size 720x360 with 1 Axes>"
      ]
     },
     "metadata": {
      "needs_background": "light"
     },
     "output_type": "display_data"
    }
   ],
   "source": [
    "plt.figure(figsize=(10,5))\n",
    "ax = sns.barplot(x=cluster3['kota'].value_counts().index, y=cluster3.kota.value_counts())\n",
    "plt.title('Kotamadya Cluster 3')\n",
    "plt.savefig('Cluster_3/Sebaran Kotamadya cluster 3.jpg', bbox_inches='tight')"
   ]
  },
  {
   "cell_type": "code",
   "execution_count": 57,
   "id": "178d9847-90ef-45bf-b658-34eb092b756a",
   "metadata": {},
   "outputs": [
    {
     "data": {
      "image/png": "[encoded data removed]",
      "text/plain": [
       "<Figure size 1080x720 with 1 Axes>"
      ]
     },
     "metadata": {
      "needs_background": "light"
     },
     "output_type": "display_data"
    }
   ],
   "source": [
    "plt.figure(figsize=(15,10))\n",
    "ax = sns.barplot(x=cluster1['kecamatan'].value_counts()[:5].index, y=cluster1.kecamatan.value_counts()[:5])\n",
    "plt.title('Kecamatan Cluster 1')\n",
    "plt.savefig('Cluster_1/Sebaran Kecamatan cluster 1.jpg', bbox_inches='tight')"
   ]
  },
  {
   "cell_type": "code",
   "execution_count": 58,
   "id": "8ef2bb3d-9fa5-4e08-80c2-fe5002a087aa",
   "metadata": {},
   "outputs": [
    {
     "data": {
      "image/png": "[encoded data removed]",
      "text/plain": [
       "<Figure size 1080x720 with 1 Axes>"
      ]
     },
     "metadata": {
      "needs_background": "light"
     },
     "output_type": "display_data"
    }
   ],
   "source": [
    "plt.figure(figsize=(15,10))\n",
    "ax = sns.barplot(x=cluster2['kecamatan'].value_counts()[:5].index, y=cluster2.kecamatan.value_counts()[:5])\n",
    "plt.title('Kecamatan Cluster 2')\n",
    "plt.savefig('Cluster_2/Sebaran Kecamatan cluster 2.jpg', bbox_inches='tight')"
   ]
  },
  {
   "cell_type": "code",
   "execution_count": 55,
   "id": "53edddec-b420-4cb5-ba24-77bfedacda34",
   "metadata": {},
   "outputs": [
    {
     "data": {
      "image/png": "[encoded data removed]",
      "text/plain": [
       "<Figure size 1080x720 with 1 Axes>"
      ]
     },
     "metadata": {
      "needs_background": "light"
     },
     "output_type": "display_data"
    }
   ],
   "source": [
    "plt.figure(figsize=(15,10))\n",
    "ax = sns.barplot(x=cluster3['kecamatan'].value_counts()[:5].index, y=cluster3.kecamatan.value_counts()[:5])\n",
    "plt.title('Kecamatan Cluster 3')\n",
    "plt.savefig('Cluster_3/Sebaran Kecamatan cluster 3.jpg', bbox_inches='tight')"
   ]
  }
 ],
 "metadata": {
  "kernelspec": {
   "display_name": "Python 3 (ipykernel)",
   "language": "python",
   "name": "python3"
  },
  "language_info": {
   "codemirror_mode": {
    "name": "ipython",
    "version": 3
   },
   "file_extension": ".py",
   "mimetype": "text/x-python",
   "name": "python",
   "nbconvert_exporter": "python",
   "pygments_lexer": "ipython3",
   "version": "3.9.7"
  }
 },
 "nbformat": 4,
 "nbformat_minor": 5
}
