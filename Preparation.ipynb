{
 "cells": [
  {
   "cell_type": "code",
   "execution_count": 120,
   "id": "f46c05a5-e0ff-4b4e-b0b6-5c69f1fad8eb",
   "metadata": {},
   "outputs": [],
   "source": [
    "import numpy as np\n",
    "import pandas as pd\n",
    "import seaborn as sns\n",
    "import matplotlib.pyplot as plt"
   ]
  },
  {
   "cell_type": "code",
   "execution_count": 121,
   "id": "48ddf3ab-e70c-4977-a6c9-05aea34b60ad",
   "metadata": {},
   "outputs": [],
   "source": [
    "df_jakut = pd.read_excel('dataset/harga_rumah_jakut.xlsx')\n",
    "df_jaksel = pd.read_excel('dataset/harga_rumah_jaksel.xlsx')\n",
    "df_jaktim = pd.read_excel('dataset/harga_rumah_jaktim.xlsx')\n",
    "df_jakbar = pd.read_excel('dataset/harga_rumah_jakbar.xlsx')\n",
    "df_jakpus = pd.read_excel('dataset/harga_rumah_jakpus.xlsx')"
   ]
  },
  {
   "cell_type": "code",
   "execution_count": 122,
   "id": "283740a1-f41d-4fc3-b066-5822dfde9188",
   "metadata": {},
   "outputs": [
    {
     "data": {
      "text/html": [
       "<div>\n",
       "<style scoped>\n",
       "    .dataframe tbody tr th:only-of-type {\n",
       "        vertical-align: middle;\n",
       "    }\n",
       "\n",
       "    .dataframe tbody tr th {\n",
       "        vertical-align: top;\n",
       "    }\n",
       "\n",
       "    .dataframe thead th {\n",
       "        text-align: right;\n",
       "    }\n",
       "</style>\n",
       "<table border=\"1\" class=\"dataframe\">\n",
       "  <thead>\n",
       "    <tr style=\"text-align: right;\">\n",
       "      <th></th>\n",
       "      <th>web-scraper-order</th>\n",
       "      <th>web-scraper-start-url</th>\n",
       "      <th>link</th>\n",
       "      <th>link-href</th>\n",
       "      <th>ALT</th>\n",
       "      <th>ALB</th>\n",
       "      <th>JKT</th>\n",
       "      <th>JKM</th>\n",
       "      <th>lantai</th>\n",
       "      <th>lokasi</th>\n",
       "      <th>harga</th>\n",
       "    </tr>\n",
       "  </thead>\n",
       "  <tbody>\n",
       "    <tr>\n",
       "      <th>0</th>\n",
       "      <td>1650621745-2421</td>\n",
       "      <td>https://www.olx.co.id/jakarta-utara_g4000032/d...</td>\n",
       "      <td>Rp 550.000.0003 KT - 2 KM - 60 m2Rumah dekat e...</td>\n",
       "      <td>https://www.olx.co.id/item/rumah-dekat-exit-to...</td>\n",
       "      <td>60</td>\n",
       "      <td>60</td>\n",
       "      <td>3</td>\n",
       "      <td>2</td>\n",
       "      <td>2.0</td>\n",
       "      <td>Cempaka Putih, Jakarta Pusat, Jakarta D.K.I.</td>\n",
       "      <td>Rp 550.000.000</td>\n",
       "    </tr>\n",
       "    <tr>\n",
       "      <th>1</th>\n",
       "      <td>1650621657-2406</td>\n",
       "      <td>https://www.olx.co.id/jakarta-utara_g4000032/d...</td>\n",
       "      <td>Rp 795.000.0073 KT - 2 KM - 85 m2VIRAL! HUNIAN...</td>\n",
       "      <td>https://www.olx.co.id/item/viral-hunian-megah-...</td>\n",
       "      <td>87</td>\n",
       "      <td>85</td>\n",
       "      <td>3</td>\n",
       "      <td>2</td>\n",
       "      <td>2.0</td>\n",
       "      <td>Sawah Besar, Jakarta Pusat, Jakarta D.K.I.</td>\n",
       "      <td>Rp 795.000.007</td>\n",
       "    </tr>\n",
       "    <tr>\n",
       "      <th>2</th>\n",
       "      <td>1650622695-2592</td>\n",
       "      <td>https://www.olx.co.id/jakarta-utara_g4000032/d...</td>\n",
       "      <td>Rp 589.300.0232 KT - 2 KM - 060 m2Hunian 2 Lan...</td>\n",
       "      <td>https://www.olx.co.id/item/hunian-2-lantai-di-...</td>\n",
       "      <td>79</td>\n",
       "      <td>60</td>\n",
       "      <td>2</td>\n",
       "      <td>2</td>\n",
       "      <td>2.0</td>\n",
       "      <td>Cempaka Putih, Jakarta Pusat, Jakarta D.K.I.</td>\n",
       "      <td>Rp 589.300.023</td>\n",
       "    </tr>\n",
       "    <tr>\n",
       "      <th>3</th>\n",
       "      <td>1650621513-2378</td>\n",
       "      <td>https://www.olx.co.id/jakarta-utara_g4000032/d...</td>\n",
       "      <td>HighlightRp 495.000.0002 KT - 1 KM - 41 m2Ruma...</td>\n",
       "      <td>https://www.olx.co.id/item/rumah-dijual-siap-h...</td>\n",
       "      <td>144</td>\n",
       "      <td>41</td>\n",
       "      <td>2</td>\n",
       "      <td>1</td>\n",
       "      <td>1.0</td>\n",
       "      <td>Cempaka Putih, Jakarta Pusat, Jakarta D.K.I.</td>\n",
       "      <td>Rp 495.000.000</td>\n",
       "    </tr>\n",
       "    <tr>\n",
       "      <th>4</th>\n",
       "      <td>1650622798-2630</td>\n",
       "      <td>https://www.olx.co.id/jakarta-utara_g4000032/d...</td>\n",
       "      <td>Rp 2.100.000.0004 KT - 2 KM - 60 m2Rumah Kelap...</td>\n",
       "      <td>https://www.olx.co.id/item/rumah-kelapa-gading...</td>\n",
       "      <td>90</td>\n",
       "      <td>60</td>\n",
       "      <td>4</td>\n",
       "      <td>2</td>\n",
       "      <td>1.0</td>\n",
       "      <td>Kelapa Gading, Jakarta Utara, Jakarta D.K.I.</td>\n",
       "      <td>Rp 2.100.000.000</td>\n",
       "    </tr>\n",
       "  </tbody>\n",
       "</table>\n",
       "</div>"
      ],
      "text/plain": [
       "  web-scraper-order                              web-scraper-start-url  \\\n",
       "0   1650621745-2421  https://www.olx.co.id/jakarta-utara_g4000032/d...   \n",
       "1   1650621657-2406  https://www.olx.co.id/jakarta-utara_g4000032/d...   \n",
       "2   1650622695-2592  https://www.olx.co.id/jakarta-utara_g4000032/d...   \n",
       "3   1650621513-2378  https://www.olx.co.id/jakarta-utara_g4000032/d...   \n",
       "4   1650622798-2630  https://www.olx.co.id/jakarta-utara_g4000032/d...   \n",
       "\n",
       "                                                link  \\\n",
       "0  Rp 550.000.0003 KT - 2 KM - 60 m2Rumah dekat e...   \n",
       "1  Rp 795.000.0073 KT - 2 KM - 85 m2VIRAL! HUNIAN...   \n",
       "2  Rp 589.300.0232 KT - 2 KM - 060 m2Hunian 2 Lan...   \n",
       "3  HighlightRp 495.000.0002 KT - 1 KM - 41 m2Ruma...   \n",
       "4  Rp 2.100.000.0004 KT - 2 KM - 60 m2Rumah Kelap...   \n",
       "\n",
       "                                           link-href  ALT  ALB JKT JKM  \\\n",
       "0  https://www.olx.co.id/item/rumah-dekat-exit-to...   60   60   3   2   \n",
       "1  https://www.olx.co.id/item/viral-hunian-megah-...   87   85   3   2   \n",
       "2  https://www.olx.co.id/item/hunian-2-lantai-di-...   79   60   2   2   \n",
       "3  https://www.olx.co.id/item/rumah-dijual-siap-h...  144   41   2   1   \n",
       "4  https://www.olx.co.id/item/rumah-kelapa-gading...   90   60   4   2   \n",
       "\n",
       "   lantai                                        lokasi             harga  \n",
       "0     2.0  Cempaka Putih, Jakarta Pusat, Jakarta D.K.I.    Rp 550.000.000  \n",
       "1     2.0    Sawah Besar, Jakarta Pusat, Jakarta D.K.I.    Rp 795.000.007  \n",
       "2     2.0  Cempaka Putih, Jakarta Pusat, Jakarta D.K.I.    Rp 589.300.023  \n",
       "3     1.0  Cempaka Putih, Jakarta Pusat, Jakarta D.K.I.    Rp 495.000.000  \n",
       "4     1.0  Kelapa Gading, Jakarta Utara, Jakarta D.K.I.  Rp 2.100.000.000  "
      ]
     },
     "execution_count": 122,
     "metadata": {},
     "output_type": "execute_result"
    }
   ],
   "source": [
    "df_jakut.head()"
   ]
  },
  {
   "cell_type": "markdown",
   "id": "4c629650-3396-4656-a657-449561b0ddbc",
   "metadata": {},
   "source": [
    "<p>Rename kolom pada setiap dataset<p>"
   ]
  },
  {
   "cell_type": "code",
   "execution_count": 123,
   "id": "daf1f131-9f6d-4f20-8e89-5aeef9df9fe2",
   "metadata": {},
   "outputs": [],
   "source": [
    "df_jakut.columns = ['id', 'start_url', 'judul_listing', 'link_listing', 'luas_tanah', 'luas_bangunan', 'kamar_tidur', 'kamar_mandi', 'lantai', 'lokasi', 'harga']\n",
    "df_jaksel.columns = ['id', 'start_url', 'judul_listing', 'link_listing', 'luas_tanah', 'luas_bangunan', 'kamar_tidur', 'kamar_mandi', 'lantai', 'lokasi', 'harga']\n",
    "df_jaktim.columns = ['id', 'start_url', 'judul_listing', 'link_listing', 'luas_tanah', 'luas_bangunan', 'kamar_tidur', 'kamar_mandi', 'lantai', 'lokasi', 'harga']\n",
    "df_jakbar.columns = ['id', 'start_url', 'judul_listing', 'link_listing', 'luas_tanah', 'luas_bangunan', 'kamar_tidur', 'kamar_mandi', 'lantai', 'lokasi', 'harga']\n",
    "df_jakpus.columns = ['id', 'start_url', 'judul_listing', 'link_listing', 'luas_tanah', 'luas_bangunan', 'kamar_tidur', 'kamar_mandi', 'lantai', 'lokasi', 'harga']"
   ]
  },
  {
   "cell_type": "code",
   "execution_count": 124,
   "id": "5b916e45-a6f8-47b7-b1a0-b82e80333355",
   "metadata": {},
   "outputs": [
    {
     "data": {
      "text/html": [
       "<div>\n",
       "<style scoped>\n",
       "    .dataframe tbody tr th:only-of-type {\n",
       "        vertical-align: middle;\n",
       "    }\n",
       "\n",
       "    .dataframe tbody tr th {\n",
       "        vertical-align: top;\n",
       "    }\n",
       "\n",
       "    .dataframe thead th {\n",
       "        text-align: right;\n",
       "    }\n",
       "</style>\n",
       "<table border=\"1\" class=\"dataframe\">\n",
       "  <thead>\n",
       "    <tr style=\"text-align: right;\">\n",
       "      <th></th>\n",
       "      <th>id</th>\n",
       "      <th>start_url</th>\n",
       "      <th>judul_listing</th>\n",
       "      <th>link_listing</th>\n",
       "      <th>luas_tanah</th>\n",
       "      <th>luas_bangunan</th>\n",
       "      <th>kamar_tidur</th>\n",
       "      <th>kamar_mandi</th>\n",
       "      <th>lantai</th>\n",
       "      <th>lokasi</th>\n",
       "      <th>harga</th>\n",
       "    </tr>\n",
       "  </thead>\n",
       "  <tbody>\n",
       "    <tr>\n",
       "      <th>0</th>\n",
       "      <td>1650621745-2421</td>\n",
       "      <td>https://www.olx.co.id/jakarta-utara_g4000032/d...</td>\n",
       "      <td>Rp 550.000.0003 KT - 2 KM - 60 m2Rumah dekat e...</td>\n",
       "      <td>https://www.olx.co.id/item/rumah-dekat-exit-to...</td>\n",
       "      <td>60</td>\n",
       "      <td>60</td>\n",
       "      <td>3</td>\n",
       "      <td>2</td>\n",
       "      <td>2.0</td>\n",
       "      <td>Cempaka Putih, Jakarta Pusat, Jakarta D.K.I.</td>\n",
       "      <td>Rp 550.000.000</td>\n",
       "    </tr>\n",
       "    <tr>\n",
       "      <th>1</th>\n",
       "      <td>1650621657-2406</td>\n",
       "      <td>https://www.olx.co.id/jakarta-utara_g4000032/d...</td>\n",
       "      <td>Rp 795.000.0073 KT - 2 KM - 85 m2VIRAL! HUNIAN...</td>\n",
       "      <td>https://www.olx.co.id/item/viral-hunian-megah-...</td>\n",
       "      <td>87</td>\n",
       "      <td>85</td>\n",
       "      <td>3</td>\n",
       "      <td>2</td>\n",
       "      <td>2.0</td>\n",
       "      <td>Sawah Besar, Jakarta Pusat, Jakarta D.K.I.</td>\n",
       "      <td>Rp 795.000.007</td>\n",
       "    </tr>\n",
       "    <tr>\n",
       "      <th>2</th>\n",
       "      <td>1650622695-2592</td>\n",
       "      <td>https://www.olx.co.id/jakarta-utara_g4000032/d...</td>\n",
       "      <td>Rp 589.300.0232 KT - 2 KM - 060 m2Hunian 2 Lan...</td>\n",
       "      <td>https://www.olx.co.id/item/hunian-2-lantai-di-...</td>\n",
       "      <td>79</td>\n",
       "      <td>60</td>\n",
       "      <td>2</td>\n",
       "      <td>2</td>\n",
       "      <td>2.0</td>\n",
       "      <td>Cempaka Putih, Jakarta Pusat, Jakarta D.K.I.</td>\n",
       "      <td>Rp 589.300.023</td>\n",
       "    </tr>\n",
       "    <tr>\n",
       "      <th>3</th>\n",
       "      <td>1650621513-2378</td>\n",
       "      <td>https://www.olx.co.id/jakarta-utara_g4000032/d...</td>\n",
       "      <td>HighlightRp 495.000.0002 KT - 1 KM - 41 m2Ruma...</td>\n",
       "      <td>https://www.olx.co.id/item/rumah-dijual-siap-h...</td>\n",
       "      <td>144</td>\n",
       "      <td>41</td>\n",
       "      <td>2</td>\n",
       "      <td>1</td>\n",
       "      <td>1.0</td>\n",
       "      <td>Cempaka Putih, Jakarta Pusat, Jakarta D.K.I.</td>\n",
       "      <td>Rp 495.000.000</td>\n",
       "    </tr>\n",
       "    <tr>\n",
       "      <th>4</th>\n",
       "      <td>1650622798-2630</td>\n",
       "      <td>https://www.olx.co.id/jakarta-utara_g4000032/d...</td>\n",
       "      <td>Rp 2.100.000.0004 KT - 2 KM - 60 m2Rumah Kelap...</td>\n",
       "      <td>https://www.olx.co.id/item/rumah-kelapa-gading...</td>\n",
       "      <td>90</td>\n",
       "      <td>60</td>\n",
       "      <td>4</td>\n",
       "      <td>2</td>\n",
       "      <td>1.0</td>\n",
       "      <td>Kelapa Gading, Jakarta Utara, Jakarta D.K.I.</td>\n",
       "      <td>Rp 2.100.000.000</td>\n",
       "    </tr>\n",
       "  </tbody>\n",
       "</table>\n",
       "</div>"
      ],
      "text/plain": [
       "                id                                          start_url  \\\n",
       "0  1650621745-2421  https://www.olx.co.id/jakarta-utara_g4000032/d...   \n",
       "1  1650621657-2406  https://www.olx.co.id/jakarta-utara_g4000032/d...   \n",
       "2  1650622695-2592  https://www.olx.co.id/jakarta-utara_g4000032/d...   \n",
       "3  1650621513-2378  https://www.olx.co.id/jakarta-utara_g4000032/d...   \n",
       "4  1650622798-2630  https://www.olx.co.id/jakarta-utara_g4000032/d...   \n",
       "\n",
       "                                       judul_listing  \\\n",
       "0  Rp 550.000.0003 KT - 2 KM - 60 m2Rumah dekat e...   \n",
       "1  Rp 795.000.0073 KT - 2 KM - 85 m2VIRAL! HUNIAN...   \n",
       "2  Rp 589.300.0232 KT - 2 KM - 060 m2Hunian 2 Lan...   \n",
       "3  HighlightRp 495.000.0002 KT - 1 KM - 41 m2Ruma...   \n",
       "4  Rp 2.100.000.0004 KT - 2 KM - 60 m2Rumah Kelap...   \n",
       "\n",
       "                                        link_listing  luas_tanah  \\\n",
       "0  https://www.olx.co.id/item/rumah-dekat-exit-to...          60   \n",
       "1  https://www.olx.co.id/item/viral-hunian-megah-...          87   \n",
       "2  https://www.olx.co.id/item/hunian-2-lantai-di-...          79   \n",
       "3  https://www.olx.co.id/item/rumah-dijual-siap-h...         144   \n",
       "4  https://www.olx.co.id/item/rumah-kelapa-gading...          90   \n",
       "\n",
       "   luas_bangunan kamar_tidur kamar_mandi  lantai  \\\n",
       "0             60           3           2     2.0   \n",
       "1             85           3           2     2.0   \n",
       "2             60           2           2     2.0   \n",
       "3             41           2           1     1.0   \n",
       "4             60           4           2     1.0   \n",
       "\n",
       "                                         lokasi             harga  \n",
       "0  Cempaka Putih, Jakarta Pusat, Jakarta D.K.I.    Rp 550.000.000  \n",
       "1    Sawah Besar, Jakarta Pusat, Jakarta D.K.I.    Rp 795.000.007  \n",
       "2  Cempaka Putih, Jakarta Pusat, Jakarta D.K.I.    Rp 589.300.023  \n",
       "3  Cempaka Putih, Jakarta Pusat, Jakarta D.K.I.    Rp 495.000.000  \n",
       "4  Kelapa Gading, Jakarta Utara, Jakarta D.K.I.  Rp 2.100.000.000  "
      ]
     },
     "execution_count": 124,
     "metadata": {},
     "output_type": "execute_result"
    }
   ],
   "source": [
    "df_jakut.head()"
   ]
  },
  {
   "cell_type": "markdown",
   "id": "74bfb0e9-2a4b-43bd-944a-2b4f6fbdbcba",
   "metadata": {},
   "source": [
    "<p>Cek duplicate<p>"
   ]
  },
  {
   "cell_type": "code",
   "execution_count": 125,
   "id": "2743808c-ae11-4d2e-9cbb-b9e10273c067",
   "metadata": {},
   "outputs": [
    {
     "name": "stdout",
     "output_type": "stream",
     "text": [
      "no duplicate df_jakut: True\n",
      "no duplicate df_jaksel: True\n",
      "no duplicate df_jaktim: True\n",
      "no duplicate df_jakbar: True\n",
      "no duplicate df_jakpus: True\n"
     ]
    }
   ],
   "source": [
    "print('no duplicate df_jakut: '+ str(df_jakut['link_listing'].is_unique))\n",
    "print('no duplicate df_jaksel: '+ str(df_jaksel['link_listing'].is_unique))\n",
    "print('no duplicate df_jaktim: '+ str(df_jaktim['link_listing'].is_unique))\n",
    "print('no duplicate df_jakbar: '+ str(df_jakbar['link_listing'].is_unique))\n",
    "print('no duplicate df_jakpus: '+ str(df_jakpus['link_listing'].is_unique))"
   ]
  },
  {
   "cell_type": "code",
   "execution_count": 126,
   "id": "bee525b7-71bd-47fd-b5ac-fbd8bd069820",
   "metadata": {},
   "outputs": [],
   "source": [
    "df_list = [df_jakut, df_jaksel, df_jaktim, df_jakbar, df_jakpus]\n",
    "df = pd.concat(df_list, axis=0)"
   ]
  },
  {
   "cell_type": "code",
   "execution_count": 127,
   "id": "88bc77dc-0537-44b3-b46c-cc694d0ff0b9",
   "metadata": {},
   "outputs": [
    {
     "data": {
      "text/html": [
       "<div>\n",
       "<style scoped>\n",
       "    .dataframe tbody tr th:only-of-type {\n",
       "        vertical-align: middle;\n",
       "    }\n",
       "\n",
       "    .dataframe tbody tr th {\n",
       "        vertical-align: top;\n",
       "    }\n",
       "\n",
       "    .dataframe thead th {\n",
       "        text-align: right;\n",
       "    }\n",
       "</style>\n",
       "<table border=\"1\" class=\"dataframe\">\n",
       "  <thead>\n",
       "    <tr style=\"text-align: right;\">\n",
       "      <th></th>\n",
       "      <th>id</th>\n",
       "      <th>start_url</th>\n",
       "      <th>judul_listing</th>\n",
       "      <th>link_listing</th>\n",
       "      <th>luas_tanah</th>\n",
       "      <th>luas_bangunan</th>\n",
       "      <th>kamar_tidur</th>\n",
       "      <th>kamar_mandi</th>\n",
       "      <th>lantai</th>\n",
       "      <th>lokasi</th>\n",
       "      <th>harga</th>\n",
       "    </tr>\n",
       "  </thead>\n",
       "  <tbody>\n",
       "    <tr>\n",
       "      <th>0</th>\n",
       "      <td>1650621745-2421</td>\n",
       "      <td>https://www.olx.co.id/jakarta-utara_g4000032/d...</td>\n",
       "      <td>Rp 550.000.0003 KT - 2 KM - 60 m2Rumah dekat e...</td>\n",
       "      <td>https://www.olx.co.id/item/rumah-dekat-exit-to...</td>\n",
       "      <td>60</td>\n",
       "      <td>60</td>\n",
       "      <td>3</td>\n",
       "      <td>2</td>\n",
       "      <td>2.0</td>\n",
       "      <td>Cempaka Putih, Jakarta Pusat, Jakarta D.K.I.</td>\n",
       "      <td>Rp 550.000.000</td>\n",
       "    </tr>\n",
       "    <tr>\n",
       "      <th>1</th>\n",
       "      <td>1650621657-2406</td>\n",
       "      <td>https://www.olx.co.id/jakarta-utara_g4000032/d...</td>\n",
       "      <td>Rp 795.000.0073 KT - 2 KM - 85 m2VIRAL! HUNIAN...</td>\n",
       "      <td>https://www.olx.co.id/item/viral-hunian-megah-...</td>\n",
       "      <td>87</td>\n",
       "      <td>85</td>\n",
       "      <td>3</td>\n",
       "      <td>2</td>\n",
       "      <td>2.0</td>\n",
       "      <td>Sawah Besar, Jakarta Pusat, Jakarta D.K.I.</td>\n",
       "      <td>Rp 795.000.007</td>\n",
       "    </tr>\n",
       "    <tr>\n",
       "      <th>2</th>\n",
       "      <td>1650622695-2592</td>\n",
       "      <td>https://www.olx.co.id/jakarta-utara_g4000032/d...</td>\n",
       "      <td>Rp 589.300.0232 KT - 2 KM - 060 m2Hunian 2 Lan...</td>\n",
       "      <td>https://www.olx.co.id/item/hunian-2-lantai-di-...</td>\n",
       "      <td>79</td>\n",
       "      <td>60</td>\n",
       "      <td>2</td>\n",
       "      <td>2</td>\n",
       "      <td>2.0</td>\n",
       "      <td>Cempaka Putih, Jakarta Pusat, Jakarta D.K.I.</td>\n",
       "      <td>Rp 589.300.023</td>\n",
       "    </tr>\n",
       "    <tr>\n",
       "      <th>3</th>\n",
       "      <td>1650621513-2378</td>\n",
       "      <td>https://www.olx.co.id/jakarta-utara_g4000032/d...</td>\n",
       "      <td>HighlightRp 495.000.0002 KT - 1 KM - 41 m2Ruma...</td>\n",
       "      <td>https://www.olx.co.id/item/rumah-dijual-siap-h...</td>\n",
       "      <td>144</td>\n",
       "      <td>41</td>\n",
       "      <td>2</td>\n",
       "      <td>1</td>\n",
       "      <td>1.0</td>\n",
       "      <td>Cempaka Putih, Jakarta Pusat, Jakarta D.K.I.</td>\n",
       "      <td>Rp 495.000.000</td>\n",
       "    </tr>\n",
       "    <tr>\n",
       "      <th>4</th>\n",
       "      <td>1650622798-2630</td>\n",
       "      <td>https://www.olx.co.id/jakarta-utara_g4000032/d...</td>\n",
       "      <td>Rp 2.100.000.0004 KT - 2 KM - 60 m2Rumah Kelap...</td>\n",
       "      <td>https://www.olx.co.id/item/rumah-kelapa-gading...</td>\n",
       "      <td>90</td>\n",
       "      <td>60</td>\n",
       "      <td>4</td>\n",
       "      <td>2</td>\n",
       "      <td>1.0</td>\n",
       "      <td>Kelapa Gading, Jakarta Utara, Jakarta D.K.I.</td>\n",
       "      <td>Rp 2.100.000.000</td>\n",
       "    </tr>\n",
       "  </tbody>\n",
       "</table>\n",
       "</div>"
      ],
      "text/plain": [
       "                id                                          start_url  \\\n",
       "0  1650621745-2421  https://www.olx.co.id/jakarta-utara_g4000032/d...   \n",
       "1  1650621657-2406  https://www.olx.co.id/jakarta-utara_g4000032/d...   \n",
       "2  1650622695-2592  https://www.olx.co.id/jakarta-utara_g4000032/d...   \n",
       "3  1650621513-2378  https://www.olx.co.id/jakarta-utara_g4000032/d...   \n",
       "4  1650622798-2630  https://www.olx.co.id/jakarta-utara_g4000032/d...   \n",
       "\n",
       "                                       judul_listing  \\\n",
       "0  Rp 550.000.0003 KT - 2 KM - 60 m2Rumah dekat e...   \n",
       "1  Rp 795.000.0073 KT - 2 KM - 85 m2VIRAL! HUNIAN...   \n",
       "2  Rp 589.300.0232 KT - 2 KM - 060 m2Hunian 2 Lan...   \n",
       "3  HighlightRp 495.000.0002 KT - 1 KM - 41 m2Ruma...   \n",
       "4  Rp 2.100.000.0004 KT - 2 KM - 60 m2Rumah Kelap...   \n",
       "\n",
       "                                        link_listing  luas_tanah  \\\n",
       "0  https://www.olx.co.id/item/rumah-dekat-exit-to...          60   \n",
       "1  https://www.olx.co.id/item/viral-hunian-megah-...          87   \n",
       "2  https://www.olx.co.id/item/hunian-2-lantai-di-...          79   \n",
       "3  https://www.olx.co.id/item/rumah-dijual-siap-h...         144   \n",
       "4  https://www.olx.co.id/item/rumah-kelapa-gading...          90   \n",
       "\n",
       "   luas_bangunan kamar_tidur kamar_mandi  lantai  \\\n",
       "0             60           3           2     2.0   \n",
       "1             85           3           2     2.0   \n",
       "2             60           2           2     2.0   \n",
       "3             41           2           1     1.0   \n",
       "4             60           4           2     1.0   \n",
       "\n",
       "                                         lokasi             harga  \n",
       "0  Cempaka Putih, Jakarta Pusat, Jakarta D.K.I.    Rp 550.000.000  \n",
       "1    Sawah Besar, Jakarta Pusat, Jakarta D.K.I.    Rp 795.000.007  \n",
       "2  Cempaka Putih, Jakarta Pusat, Jakarta D.K.I.    Rp 589.300.023  \n",
       "3  Cempaka Putih, Jakarta Pusat, Jakarta D.K.I.    Rp 495.000.000  \n",
       "4  Kelapa Gading, Jakarta Utara, Jakarta D.K.I.  Rp 2.100.000.000  "
      ]
     },
     "execution_count": 127,
     "metadata": {},
     "output_type": "execute_result"
    }
   ],
   "source": [
    "df.head()"
   ]
  },
  {
   "cell_type": "code",
   "execution_count": 128,
   "id": "4cf2ea09-0f67-487a-a0fd-ed2540893684",
   "metadata": {},
   "outputs": [
    {
     "name": "stdout",
     "output_type": "stream",
     "text": [
      "<class 'pandas.core.frame.DataFrame'>\n",
      "Int64Index: 2156 entries, 0 to 482\n",
      "Data columns (total 11 columns):\n",
      " #   Column         Non-Null Count  Dtype  \n",
      "---  ------         --------------  -----  \n",
      " 0   id             2156 non-null   object \n",
      " 1   start_url      2156 non-null   object \n",
      " 2   judul_listing  2156 non-null   object \n",
      " 3   link_listing   2156 non-null   object \n",
      " 4   luas_tanah     2156 non-null   int64  \n",
      " 5   luas_bangunan  2156 non-null   int64  \n",
      " 6   kamar_tidur    2156 non-null   object \n",
      " 7   kamar_mandi    2156 non-null   object \n",
      " 8   lantai         2053 non-null   float64\n",
      " 9   lokasi         2156 non-null   object \n",
      " 10  harga          2156 non-null   object \n",
      "dtypes: float64(1), int64(2), object(8)\n",
      "memory usage: 202.1+ KB\n"
     ]
    }
   ],
   "source": [
    "df.info()"
   ]
  },
  {
   "cell_type": "markdown",
   "id": "a16e665f-4a5b-4c56-832c-3d4e70a2b297",
   "metadata": {},
   "source": [
    "<p>Seleksi kolom yang diperlukan<p>"
   ]
  },
  {
   "cell_type": "code",
   "execution_count": 129,
   "id": "7ce3f5e5-26ce-4b61-a517-17b029e91c55",
   "metadata": {},
   "outputs": [],
   "source": [
    "df = df[['luas_tanah', 'luas_bangunan', 'kamar_tidur', 'kamar_mandi', 'lantai', 'lokasi', 'harga']]"
   ]
  },
  {
   "cell_type": "code",
   "execution_count": 130,
   "id": "3d9eac7a-1758-4265-86c5-bf8a9493e406",
   "metadata": {},
   "outputs": [
    {
     "data": {
      "text/html": [
       "<div>\n",
       "<style scoped>\n",
       "    .dataframe tbody tr th:only-of-type {\n",
       "        vertical-align: middle;\n",
       "    }\n",
       "\n",
       "    .dataframe tbody tr th {\n",
       "        vertical-align: top;\n",
       "    }\n",
       "\n",
       "    .dataframe thead th {\n",
       "        text-align: right;\n",
       "    }\n",
       "</style>\n",
       "<table border=\"1\" class=\"dataframe\">\n",
       "  <thead>\n",
       "    <tr style=\"text-align: right;\">\n",
       "      <th></th>\n",
       "      <th>luas_tanah</th>\n",
       "      <th>luas_bangunan</th>\n",
       "      <th>kamar_tidur</th>\n",
       "      <th>kamar_mandi</th>\n",
       "      <th>lantai</th>\n",
       "      <th>lokasi</th>\n",
       "      <th>harga</th>\n",
       "    </tr>\n",
       "  </thead>\n",
       "  <tbody>\n",
       "    <tr>\n",
       "      <th>0</th>\n",
       "      <td>60</td>\n",
       "      <td>60</td>\n",
       "      <td>3</td>\n",
       "      <td>2</td>\n",
       "      <td>2.0</td>\n",
       "      <td>Cempaka Putih, Jakarta Pusat, Jakarta D.K.I.</td>\n",
       "      <td>Rp 550.000.000</td>\n",
       "    </tr>\n",
       "    <tr>\n",
       "      <th>1</th>\n",
       "      <td>87</td>\n",
       "      <td>85</td>\n",
       "      <td>3</td>\n",
       "      <td>2</td>\n",
       "      <td>2.0</td>\n",
       "      <td>Sawah Besar, Jakarta Pusat, Jakarta D.K.I.</td>\n",
       "      <td>Rp 795.000.007</td>\n",
       "    </tr>\n",
       "    <tr>\n",
       "      <th>2</th>\n",
       "      <td>79</td>\n",
       "      <td>60</td>\n",
       "      <td>2</td>\n",
       "      <td>2</td>\n",
       "      <td>2.0</td>\n",
       "      <td>Cempaka Putih, Jakarta Pusat, Jakarta D.K.I.</td>\n",
       "      <td>Rp 589.300.023</td>\n",
       "    </tr>\n",
       "    <tr>\n",
       "      <th>3</th>\n",
       "      <td>144</td>\n",
       "      <td>41</td>\n",
       "      <td>2</td>\n",
       "      <td>1</td>\n",
       "      <td>1.0</td>\n",
       "      <td>Cempaka Putih, Jakarta Pusat, Jakarta D.K.I.</td>\n",
       "      <td>Rp 495.000.000</td>\n",
       "    </tr>\n",
       "    <tr>\n",
       "      <th>4</th>\n",
       "      <td>90</td>\n",
       "      <td>60</td>\n",
       "      <td>4</td>\n",
       "      <td>2</td>\n",
       "      <td>1.0</td>\n",
       "      <td>Kelapa Gading, Jakarta Utara, Jakarta D.K.I.</td>\n",
       "      <td>Rp 2.100.000.000</td>\n",
       "    </tr>\n",
       "  </tbody>\n",
       "</table>\n",
       "</div>"
      ],
      "text/plain": [
       "   luas_tanah  luas_bangunan kamar_tidur kamar_mandi  lantai  \\\n",
       "0          60             60           3           2     2.0   \n",
       "1          87             85           3           2     2.0   \n",
       "2          79             60           2           2     2.0   \n",
       "3         144             41           2           1     1.0   \n",
       "4          90             60           4           2     1.0   \n",
       "\n",
       "                                         lokasi             harga  \n",
       "0  Cempaka Putih, Jakarta Pusat, Jakarta D.K.I.    Rp 550.000.000  \n",
       "1    Sawah Besar, Jakarta Pusat, Jakarta D.K.I.    Rp 795.000.007  \n",
       "2  Cempaka Putih, Jakarta Pusat, Jakarta D.K.I.    Rp 589.300.023  \n",
       "3  Cempaka Putih, Jakarta Pusat, Jakarta D.K.I.    Rp 495.000.000  \n",
       "4  Kelapa Gading, Jakarta Utara, Jakarta D.K.I.  Rp 2.100.000.000  "
      ]
     },
     "execution_count": 130,
     "metadata": {},
     "output_type": "execute_result"
    }
   ],
   "source": [
    "df.head()"
   ]
  },
  {
   "cell_type": "code",
   "execution_count": 131,
   "id": "67f2d896-ee69-442d-adb5-08027eef2fe8",
   "metadata": {},
   "outputs": [],
   "source": [
    "df[['kecamatan', 'kota', 'provinsi']] = df['lokasi'].str.split(',', expand=True)"
   ]
  },
  {
   "cell_type": "code",
   "execution_count": 132,
   "id": "9113d67c-76d3-4782-a9ac-c119096e23b3",
   "metadata": {},
   "outputs": [],
   "source": [
    "df['kota'] = df['kota'].str[1:]\n",
    "df['provinsi'] = df['provinsi'].str[1:]"
   ]
  },
  {
   "cell_type": "code",
   "execution_count": 133,
   "id": "9fd42aed-c113-4fa7-a1f1-af7e4b7ca778",
   "metadata": {},
   "outputs": [
    {
     "data": {
      "text/html": [
       "<div>\n",
       "<style scoped>\n",
       "    .dataframe tbody tr th:only-of-type {\n",
       "        vertical-align: middle;\n",
       "    }\n",
       "\n",
       "    .dataframe tbody tr th {\n",
       "        vertical-align: top;\n",
       "    }\n",
       "\n",
       "    .dataframe thead th {\n",
       "        text-align: right;\n",
       "    }\n",
       "</style>\n",
       "<table border=\"1\" class=\"dataframe\">\n",
       "  <thead>\n",
       "    <tr style=\"text-align: right;\">\n",
       "      <th></th>\n",
       "      <th>luas_tanah</th>\n",
       "      <th>luas_bangunan</th>\n",
       "      <th>kamar_tidur</th>\n",
       "      <th>kamar_mandi</th>\n",
       "      <th>lantai</th>\n",
       "      <th>lokasi</th>\n",
       "      <th>harga</th>\n",
       "      <th>kecamatan</th>\n",
       "      <th>kota</th>\n",
       "      <th>provinsi</th>\n",
       "    </tr>\n",
       "  </thead>\n",
       "  <tbody>\n",
       "    <tr>\n",
       "      <th>0</th>\n",
       "      <td>60</td>\n",
       "      <td>60</td>\n",
       "      <td>3</td>\n",
       "      <td>2</td>\n",
       "      <td>2.0</td>\n",
       "      <td>Cempaka Putih, Jakarta Pusat, Jakarta D.K.I.</td>\n",
       "      <td>Rp 550.000.000</td>\n",
       "      <td>Cempaka Putih</td>\n",
       "      <td>Jakarta Pusat</td>\n",
       "      <td>Jakarta D.K.I.</td>\n",
       "    </tr>\n",
       "    <tr>\n",
       "      <th>1</th>\n",
       "      <td>87</td>\n",
       "      <td>85</td>\n",
       "      <td>3</td>\n",
       "      <td>2</td>\n",
       "      <td>2.0</td>\n",
       "      <td>Sawah Besar, Jakarta Pusat, Jakarta D.K.I.</td>\n",
       "      <td>Rp 795.000.007</td>\n",
       "      <td>Sawah Besar</td>\n",
       "      <td>Jakarta Pusat</td>\n",
       "      <td>Jakarta D.K.I.</td>\n",
       "    </tr>\n",
       "    <tr>\n",
       "      <th>2</th>\n",
       "      <td>79</td>\n",
       "      <td>60</td>\n",
       "      <td>2</td>\n",
       "      <td>2</td>\n",
       "      <td>2.0</td>\n",
       "      <td>Cempaka Putih, Jakarta Pusat, Jakarta D.K.I.</td>\n",
       "      <td>Rp 589.300.023</td>\n",
       "      <td>Cempaka Putih</td>\n",
       "      <td>Jakarta Pusat</td>\n",
       "      <td>Jakarta D.K.I.</td>\n",
       "    </tr>\n",
       "    <tr>\n",
       "      <th>3</th>\n",
       "      <td>144</td>\n",
       "      <td>41</td>\n",
       "      <td>2</td>\n",
       "      <td>1</td>\n",
       "      <td>1.0</td>\n",
       "      <td>Cempaka Putih, Jakarta Pusat, Jakarta D.K.I.</td>\n",
       "      <td>Rp 495.000.000</td>\n",
       "      <td>Cempaka Putih</td>\n",
       "      <td>Jakarta Pusat</td>\n",
       "      <td>Jakarta D.K.I.</td>\n",
       "    </tr>\n",
       "    <tr>\n",
       "      <th>4</th>\n",
       "      <td>90</td>\n",
       "      <td>60</td>\n",
       "      <td>4</td>\n",
       "      <td>2</td>\n",
       "      <td>1.0</td>\n",
       "      <td>Kelapa Gading, Jakarta Utara, Jakarta D.K.I.</td>\n",
       "      <td>Rp 2.100.000.000</td>\n",
       "      <td>Kelapa Gading</td>\n",
       "      <td>Jakarta Utara</td>\n",
       "      <td>Jakarta D.K.I.</td>\n",
       "    </tr>\n",
       "  </tbody>\n",
       "</table>\n",
       "</div>"
      ],
      "text/plain": [
       "   luas_tanah  luas_bangunan kamar_tidur kamar_mandi  lantai  \\\n",
       "0          60             60           3           2     2.0   \n",
       "1          87             85           3           2     2.0   \n",
       "2          79             60           2           2     2.0   \n",
       "3         144             41           2           1     1.0   \n",
       "4          90             60           4           2     1.0   \n",
       "\n",
       "                                         lokasi             harga  \\\n",
       "0  Cempaka Putih, Jakarta Pusat, Jakarta D.K.I.    Rp 550.000.000   \n",
       "1    Sawah Besar, Jakarta Pusat, Jakarta D.K.I.    Rp 795.000.007   \n",
       "2  Cempaka Putih, Jakarta Pusat, Jakarta D.K.I.    Rp 589.300.023   \n",
       "3  Cempaka Putih, Jakarta Pusat, Jakarta D.K.I.    Rp 495.000.000   \n",
       "4  Kelapa Gading, Jakarta Utara, Jakarta D.K.I.  Rp 2.100.000.000   \n",
       "\n",
       "       kecamatan           kota        provinsi  \n",
       "0  Cempaka Putih  Jakarta Pusat  Jakarta D.K.I.  \n",
       "1    Sawah Besar  Jakarta Pusat  Jakarta D.K.I.  \n",
       "2  Cempaka Putih  Jakarta Pusat  Jakarta D.K.I.  \n",
       "3  Cempaka Putih  Jakarta Pusat  Jakarta D.K.I.  \n",
       "4  Kelapa Gading  Jakarta Utara  Jakarta D.K.I.  "
      ]
     },
     "execution_count": 133,
     "metadata": {},
     "output_type": "execute_result"
    }
   ],
   "source": [
    "df.head()"
   ]
  },
  {
   "cell_type": "code",
   "execution_count": 134,
   "id": "d5711c2d-d664-48f7-87f1-d77ae601782f",
   "metadata": {},
   "outputs": [
    {
     "data": {
      "text/plain": [
       "Jakarta D.K.I.    2146\n",
       "Banten               6\n",
       "Aceh D.I.            3\n",
       "Jawa Barat           1\n",
       "Name: provinsi, dtype: int64"
      ]
     },
     "execution_count": 134,
     "metadata": {},
     "output_type": "execute_result"
    }
   ],
   "source": [
    "df['provinsi'].value_counts()"
   ]
  },
  {
   "cell_type": "code",
   "execution_count": 135,
   "id": "4affabc2-90f1-4c2f-a264-ca0cd3bab7c9",
   "metadata": {},
   "outputs": [],
   "source": [
    "df = df[(df.provinsi == 'Jakarta D.K.I.')]"
   ]
  },
  {
   "cell_type": "code",
   "execution_count": 136,
   "id": "78a5de11-57cd-472d-97bf-201a59ae8e52",
   "metadata": {},
   "outputs": [
    {
     "data": {
      "text/html": [
       "<div>\n",
       "<style scoped>\n",
       "    .dataframe tbody tr th:only-of-type {\n",
       "        vertical-align: middle;\n",
       "    }\n",
       "\n",
       "    .dataframe tbody tr th {\n",
       "        vertical-align: top;\n",
       "    }\n",
       "\n",
       "    .dataframe thead th {\n",
       "        text-align: right;\n",
       "    }\n",
       "</style>\n",
       "<table border=\"1\" class=\"dataframe\">\n",
       "  <thead>\n",
       "    <tr style=\"text-align: right;\">\n",
       "      <th></th>\n",
       "      <th>luas_tanah</th>\n",
       "      <th>luas_bangunan</th>\n",
       "      <th>kamar_tidur</th>\n",
       "      <th>kamar_mandi</th>\n",
       "      <th>lantai</th>\n",
       "      <th>lokasi</th>\n",
       "      <th>harga</th>\n",
       "      <th>kecamatan</th>\n",
       "      <th>kota</th>\n",
       "      <th>provinsi</th>\n",
       "    </tr>\n",
       "  </thead>\n",
       "  <tbody>\n",
       "    <tr>\n",
       "      <th>0</th>\n",
       "      <td>60</td>\n",
       "      <td>60</td>\n",
       "      <td>3</td>\n",
       "      <td>2</td>\n",
       "      <td>2.0</td>\n",
       "      <td>Cempaka Putih, Jakarta Pusat, Jakarta D.K.I.</td>\n",
       "      <td>Rp 550.000.000</td>\n",
       "      <td>Cempaka Putih</td>\n",
       "      <td>Jakarta Pusat</td>\n",
       "      <td>Jakarta D.K.I.</td>\n",
       "    </tr>\n",
       "    <tr>\n",
       "      <th>1</th>\n",
       "      <td>87</td>\n",
       "      <td>85</td>\n",
       "      <td>3</td>\n",
       "      <td>2</td>\n",
       "      <td>2.0</td>\n",
       "      <td>Sawah Besar, Jakarta Pusat, Jakarta D.K.I.</td>\n",
       "      <td>Rp 795.000.007</td>\n",
       "      <td>Sawah Besar</td>\n",
       "      <td>Jakarta Pusat</td>\n",
       "      <td>Jakarta D.K.I.</td>\n",
       "    </tr>\n",
       "    <tr>\n",
       "      <th>2</th>\n",
       "      <td>79</td>\n",
       "      <td>60</td>\n",
       "      <td>2</td>\n",
       "      <td>2</td>\n",
       "      <td>2.0</td>\n",
       "      <td>Cempaka Putih, Jakarta Pusat, Jakarta D.K.I.</td>\n",
       "      <td>Rp 589.300.023</td>\n",
       "      <td>Cempaka Putih</td>\n",
       "      <td>Jakarta Pusat</td>\n",
       "      <td>Jakarta D.K.I.</td>\n",
       "    </tr>\n",
       "    <tr>\n",
       "      <th>3</th>\n",
       "      <td>144</td>\n",
       "      <td>41</td>\n",
       "      <td>2</td>\n",
       "      <td>1</td>\n",
       "      <td>1.0</td>\n",
       "      <td>Cempaka Putih, Jakarta Pusat, Jakarta D.K.I.</td>\n",
       "      <td>Rp 495.000.000</td>\n",
       "      <td>Cempaka Putih</td>\n",
       "      <td>Jakarta Pusat</td>\n",
       "      <td>Jakarta D.K.I.</td>\n",
       "    </tr>\n",
       "    <tr>\n",
       "      <th>4</th>\n",
       "      <td>90</td>\n",
       "      <td>60</td>\n",
       "      <td>4</td>\n",
       "      <td>2</td>\n",
       "      <td>1.0</td>\n",
       "      <td>Kelapa Gading, Jakarta Utara, Jakarta D.K.I.</td>\n",
       "      <td>Rp 2.100.000.000</td>\n",
       "      <td>Kelapa Gading</td>\n",
       "      <td>Jakarta Utara</td>\n",
       "      <td>Jakarta D.K.I.</td>\n",
       "    </tr>\n",
       "    <tr>\n",
       "      <th>...</th>\n",
       "      <td>...</td>\n",
       "      <td>...</td>\n",
       "      <td>...</td>\n",
       "      <td>...</td>\n",
       "      <td>...</td>\n",
       "      <td>...</td>\n",
       "      <td>...</td>\n",
       "      <td>...</td>\n",
       "      <td>...</td>\n",
       "      <td>...</td>\n",
       "    </tr>\n",
       "    <tr>\n",
       "      <th>478</th>\n",
       "      <td>90</td>\n",
       "      <td>36</td>\n",
       "      <td>2</td>\n",
       "      <td>1</td>\n",
       "      <td>1.0</td>\n",
       "      <td>Tanah Abang, Jakarta Pusat, Jakarta D.K.I.</td>\n",
       "      <td>Rp 475.000.000</td>\n",
       "      <td>Tanah Abang</td>\n",
       "      <td>Jakarta Pusat</td>\n",
       "      <td>Jakarta D.K.I.</td>\n",
       "    </tr>\n",
       "    <tr>\n",
       "      <th>479</th>\n",
       "      <td>90</td>\n",
       "      <td>69</td>\n",
       "      <td>3</td>\n",
       "      <td>2</td>\n",
       "      <td>2.0</td>\n",
       "      <td>Tanah Abang, Jakarta Pusat, Jakarta D.K.I.</td>\n",
       "      <td>Rp 900.000.000</td>\n",
       "      <td>Tanah Abang</td>\n",
       "      <td>Jakarta Pusat</td>\n",
       "      <td>Jakarta D.K.I.</td>\n",
       "    </tr>\n",
       "    <tr>\n",
       "      <th>480</th>\n",
       "      <td>60</td>\n",
       "      <td>55</td>\n",
       "      <td>2</td>\n",
       "      <td>2</td>\n",
       "      <td>2.0</td>\n",
       "      <td>Palmerah, Jakarta Barat, Jakarta D.K.I.</td>\n",
       "      <td>Rp 500.000.001</td>\n",
       "      <td>Palmerah</td>\n",
       "      <td>Jakarta Barat</td>\n",
       "      <td>Jakarta D.K.I.</td>\n",
       "    </tr>\n",
       "    <tr>\n",
       "      <th>481</th>\n",
       "      <td>30</td>\n",
       "      <td>25</td>\n",
       "      <td>2</td>\n",
       "      <td>1</td>\n",
       "      <td>2.0</td>\n",
       "      <td>Menteng, Jakarta Pusat, Jakarta D.K.I.</td>\n",
       "      <td>Rp 300.000.000</td>\n",
       "      <td>Menteng</td>\n",
       "      <td>Jakarta Pusat</td>\n",
       "      <td>Jakarta D.K.I.</td>\n",
       "    </tr>\n",
       "    <tr>\n",
       "      <th>482</th>\n",
       "      <td>560</td>\n",
       "      <td>300</td>\n",
       "      <td>7</td>\n",
       "      <td>3</td>\n",
       "      <td>2.0</td>\n",
       "      <td>Tanah Abang, Jakarta Pusat, Jakarta D.K.I.</td>\n",
       "      <td>Rp 15.000.000.000</td>\n",
       "      <td>Tanah Abang</td>\n",
       "      <td>Jakarta Pusat</td>\n",
       "      <td>Jakarta D.K.I.</td>\n",
       "    </tr>\n",
       "  </tbody>\n",
       "</table>\n",
       "<p>2146 rows × 10 columns</p>\n",
       "</div>"
      ],
      "text/plain": [
       "     luas_tanah  luas_bangunan kamar_tidur kamar_mandi  lantai  \\\n",
       "0            60             60           3           2     2.0   \n",
       "1            87             85           3           2     2.0   \n",
       "2            79             60           2           2     2.0   \n",
       "3           144             41           2           1     1.0   \n",
       "4            90             60           4           2     1.0   \n",
       "..          ...            ...         ...         ...     ...   \n",
       "478          90             36           2           1     1.0   \n",
       "479          90             69           3           2     2.0   \n",
       "480          60             55           2           2     2.0   \n",
       "481          30             25           2           1     2.0   \n",
       "482         560            300           7           3     2.0   \n",
       "\n",
       "                                           lokasi              harga  \\\n",
       "0    Cempaka Putih, Jakarta Pusat, Jakarta D.K.I.     Rp 550.000.000   \n",
       "1      Sawah Besar, Jakarta Pusat, Jakarta D.K.I.     Rp 795.000.007   \n",
       "2    Cempaka Putih, Jakarta Pusat, Jakarta D.K.I.     Rp 589.300.023   \n",
       "3    Cempaka Putih, Jakarta Pusat, Jakarta D.K.I.     Rp 495.000.000   \n",
       "4    Kelapa Gading, Jakarta Utara, Jakarta D.K.I.   Rp 2.100.000.000   \n",
       "..                                            ...                ...   \n",
       "478    Tanah Abang, Jakarta Pusat, Jakarta D.K.I.     Rp 475.000.000   \n",
       "479    Tanah Abang, Jakarta Pusat, Jakarta D.K.I.     Rp 900.000.000   \n",
       "480       Palmerah, Jakarta Barat, Jakarta D.K.I.     Rp 500.000.001   \n",
       "481        Menteng, Jakarta Pusat, Jakarta D.K.I.     Rp 300.000.000   \n",
       "482    Tanah Abang, Jakarta Pusat, Jakarta D.K.I.  Rp 15.000.000.000   \n",
       "\n",
       "         kecamatan           kota        provinsi  \n",
       "0    Cempaka Putih  Jakarta Pusat  Jakarta D.K.I.  \n",
       "1      Sawah Besar  Jakarta Pusat  Jakarta D.K.I.  \n",
       "2    Cempaka Putih  Jakarta Pusat  Jakarta D.K.I.  \n",
       "3    Cempaka Putih  Jakarta Pusat  Jakarta D.K.I.  \n",
       "4    Kelapa Gading  Jakarta Utara  Jakarta D.K.I.  \n",
       "..             ...            ...             ...  \n",
       "478    Tanah Abang  Jakarta Pusat  Jakarta D.K.I.  \n",
       "479    Tanah Abang  Jakarta Pusat  Jakarta D.K.I.  \n",
       "480       Palmerah  Jakarta Barat  Jakarta D.K.I.  \n",
       "481        Menteng  Jakarta Pusat  Jakarta D.K.I.  \n",
       "482    Tanah Abang  Jakarta Pusat  Jakarta D.K.I.  \n",
       "\n",
       "[2146 rows x 10 columns]"
      ]
     },
     "execution_count": 136,
     "metadata": {},
     "output_type": "execute_result"
    }
   ],
   "source": [
    "df"
   ]
  },
  {
   "cell_type": "code",
   "execution_count": 137,
   "id": "c40e9cbc-69d6-4e74-bf87-27a9cd074b3e",
   "metadata": {},
   "outputs": [
    {
     "name": "stdout",
     "output_type": "stream",
     "text": [
      "<class 'pandas.core.frame.DataFrame'>\n",
      "Int64Index: 2146 entries, 0 to 482\n",
      "Data columns (total 10 columns):\n",
      " #   Column         Non-Null Count  Dtype  \n",
      "---  ------         --------------  -----  \n",
      " 0   luas_tanah     2146 non-null   int64  \n",
      " 1   luas_bangunan  2146 non-null   int64  \n",
      " 2   kamar_tidur    2146 non-null   object \n",
      " 3   kamar_mandi    2146 non-null   object \n",
      " 4   lantai         2043 non-null   float64\n",
      " 5   lokasi         2146 non-null   object \n",
      " 6   harga          2146 non-null   object \n",
      " 7   kecamatan      2146 non-null   object \n",
      " 8   kota           2146 non-null   object \n",
      " 9   provinsi       2146 non-null   object \n",
      "dtypes: float64(1), int64(2), object(7)\n",
      "memory usage: 184.4+ KB\n"
     ]
    }
   ],
   "source": [
    "df.info()"
   ]
  },
  {
   "cell_type": "code",
   "execution_count": 138,
   "id": "d41365d4-1d51-4ae0-880b-833c60c53f79",
   "metadata": {},
   "outputs": [],
   "source": [
    "df['luas_tanah'] = df['luas_tanah'].astype(float)\n",
    "df['luas_bangunan'] = df['luas_bangunan'].astype(float)"
   ]
  },
  {
   "cell_type": "code",
   "execution_count": 139,
   "id": "0b36a129-1890-4079-837e-ae898ea2535c",
   "metadata": {},
   "outputs": [],
   "source": [
    "# df['kamar_tidur'] = df['kamar_tidur'].replace(['>10'],'10')\n",
    "df = df[df.kamar_tidur != '>10']"
   ]
  },
  {
   "cell_type": "code",
   "execution_count": 140,
   "id": "f8ca3655-ef9c-431b-a13b-98bb6729bc4a",
   "metadata": {},
   "outputs": [],
   "source": [
    "# df['kamar_mandi'] = df['kamar_mandi'].replace(['>10'],'10')\n",
    "df = df[df.kamar_mandi != '>10']"
   ]
  },
  {
   "cell_type": "code",
   "execution_count": 141,
   "id": "f063dc8c-d971-4875-b5d4-6f384fc28e68",
   "metadata": {},
   "outputs": [],
   "source": [
    "df['kamar_tidur'] = df['kamar_tidur'].astype(float)\n",
    "df['kamar_mandi'] = df['kamar_mandi'].astype(float)"
   ]
  },
  {
   "cell_type": "code",
   "execution_count": 142,
   "id": "111135a5-18f1-4093-b1b0-3c00cb3c564d",
   "metadata": {},
   "outputs": [
    {
     "name": "stdout",
     "output_type": "stream",
     "text": [
      "<class 'pandas.core.frame.DataFrame'>\n",
      "Int64Index: 2098 entries, 0 to 482\n",
      "Data columns (total 10 columns):\n",
      " #   Column         Non-Null Count  Dtype  \n",
      "---  ------         --------------  -----  \n",
      " 0   luas_tanah     2098 non-null   float64\n",
      " 1   luas_bangunan  2098 non-null   float64\n",
      " 2   kamar_tidur    2098 non-null   float64\n",
      " 3   kamar_mandi    2098 non-null   float64\n",
      " 4   lantai         1997 non-null   float64\n",
      " 5   lokasi         2098 non-null   object \n",
      " 6   harga          2098 non-null   object \n",
      " 7   kecamatan      2098 non-null   object \n",
      " 8   kota           2098 non-null   object \n",
      " 9   provinsi       2098 non-null   object \n",
      "dtypes: float64(5), object(5)\n",
      "memory usage: 180.3+ KB\n"
     ]
    }
   ],
   "source": [
    "df.info()"
   ]
  },
  {
   "cell_type": "code",
   "execution_count": 143,
   "id": "63285cfa-4d0b-4d74-a069-4b860ef8548d",
   "metadata": {},
   "outputs": [
    {
     "data": {
      "text/html": [
       "<div>\n",
       "<style scoped>\n",
       "    .dataframe tbody tr th:only-of-type {\n",
       "        vertical-align: middle;\n",
       "    }\n",
       "\n",
       "    .dataframe tbody tr th {\n",
       "        vertical-align: top;\n",
       "    }\n",
       "\n",
       "    .dataframe thead th {\n",
       "        text-align: right;\n",
       "    }\n",
       "</style>\n",
       "<table border=\"1\" class=\"dataframe\">\n",
       "  <thead>\n",
       "    <tr style=\"text-align: right;\">\n",
       "      <th></th>\n",
       "      <th>luas_tanah</th>\n",
       "      <th>luas_bangunan</th>\n",
       "      <th>kamar_tidur</th>\n",
       "      <th>kamar_mandi</th>\n",
       "      <th>lantai</th>\n",
       "      <th>lokasi</th>\n",
       "      <th>harga</th>\n",
       "      <th>kecamatan</th>\n",
       "      <th>kota</th>\n",
       "      <th>provinsi</th>\n",
       "    </tr>\n",
       "  </thead>\n",
       "  <tbody>\n",
       "    <tr>\n",
       "      <th>0</th>\n",
       "      <td>60.0</td>\n",
       "      <td>60.0</td>\n",
       "      <td>3.0</td>\n",
       "      <td>2.0</td>\n",
       "      <td>2.0</td>\n",
       "      <td>Cempaka Putih, Jakarta Pusat, Jakarta D.K.I.</td>\n",
       "      <td>Rp 550.000.000</td>\n",
       "      <td>Cempaka Putih</td>\n",
       "      <td>Jakarta Pusat</td>\n",
       "      <td>Jakarta D.K.I.</td>\n",
       "    </tr>\n",
       "    <tr>\n",
       "      <th>1</th>\n",
       "      <td>87.0</td>\n",
       "      <td>85.0</td>\n",
       "      <td>3.0</td>\n",
       "      <td>2.0</td>\n",
       "      <td>2.0</td>\n",
       "      <td>Sawah Besar, Jakarta Pusat, Jakarta D.K.I.</td>\n",
       "      <td>Rp 795.000.007</td>\n",
       "      <td>Sawah Besar</td>\n",
       "      <td>Jakarta Pusat</td>\n",
       "      <td>Jakarta D.K.I.</td>\n",
       "    </tr>\n",
       "    <tr>\n",
       "      <th>2</th>\n",
       "      <td>79.0</td>\n",
       "      <td>60.0</td>\n",
       "      <td>2.0</td>\n",
       "      <td>2.0</td>\n",
       "      <td>2.0</td>\n",
       "      <td>Cempaka Putih, Jakarta Pusat, Jakarta D.K.I.</td>\n",
       "      <td>Rp 589.300.023</td>\n",
       "      <td>Cempaka Putih</td>\n",
       "      <td>Jakarta Pusat</td>\n",
       "      <td>Jakarta D.K.I.</td>\n",
       "    </tr>\n",
       "    <tr>\n",
       "      <th>3</th>\n",
       "      <td>144.0</td>\n",
       "      <td>41.0</td>\n",
       "      <td>2.0</td>\n",
       "      <td>1.0</td>\n",
       "      <td>1.0</td>\n",
       "      <td>Cempaka Putih, Jakarta Pusat, Jakarta D.K.I.</td>\n",
       "      <td>Rp 495.000.000</td>\n",
       "      <td>Cempaka Putih</td>\n",
       "      <td>Jakarta Pusat</td>\n",
       "      <td>Jakarta D.K.I.</td>\n",
       "    </tr>\n",
       "    <tr>\n",
       "      <th>4</th>\n",
       "      <td>90.0</td>\n",
       "      <td>60.0</td>\n",
       "      <td>4.0</td>\n",
       "      <td>2.0</td>\n",
       "      <td>1.0</td>\n",
       "      <td>Kelapa Gading, Jakarta Utara, Jakarta D.K.I.</td>\n",
       "      <td>Rp 2.100.000.000</td>\n",
       "      <td>Kelapa Gading</td>\n",
       "      <td>Jakarta Utara</td>\n",
       "      <td>Jakarta D.K.I.</td>\n",
       "    </tr>\n",
       "    <tr>\n",
       "      <th>...</th>\n",
       "      <td>...</td>\n",
       "      <td>...</td>\n",
       "      <td>...</td>\n",
       "      <td>...</td>\n",
       "      <td>...</td>\n",
       "      <td>...</td>\n",
       "      <td>...</td>\n",
       "      <td>...</td>\n",
       "      <td>...</td>\n",
       "      <td>...</td>\n",
       "    </tr>\n",
       "    <tr>\n",
       "      <th>478</th>\n",
       "      <td>90.0</td>\n",
       "      <td>36.0</td>\n",
       "      <td>2.0</td>\n",
       "      <td>1.0</td>\n",
       "      <td>1.0</td>\n",
       "      <td>Tanah Abang, Jakarta Pusat, Jakarta D.K.I.</td>\n",
       "      <td>Rp 475.000.000</td>\n",
       "      <td>Tanah Abang</td>\n",
       "      <td>Jakarta Pusat</td>\n",
       "      <td>Jakarta D.K.I.</td>\n",
       "    </tr>\n",
       "    <tr>\n",
       "      <th>479</th>\n",
       "      <td>90.0</td>\n",
       "      <td>69.0</td>\n",
       "      <td>3.0</td>\n",
       "      <td>2.0</td>\n",
       "      <td>2.0</td>\n",
       "      <td>Tanah Abang, Jakarta Pusat, Jakarta D.K.I.</td>\n",
       "      <td>Rp 900.000.000</td>\n",
       "      <td>Tanah Abang</td>\n",
       "      <td>Jakarta Pusat</td>\n",
       "      <td>Jakarta D.K.I.</td>\n",
       "    </tr>\n",
       "    <tr>\n",
       "      <th>480</th>\n",
       "      <td>60.0</td>\n",
       "      <td>55.0</td>\n",
       "      <td>2.0</td>\n",
       "      <td>2.0</td>\n",
       "      <td>2.0</td>\n",
       "      <td>Palmerah, Jakarta Barat, Jakarta D.K.I.</td>\n",
       "      <td>Rp 500.000.001</td>\n",
       "      <td>Palmerah</td>\n",
       "      <td>Jakarta Barat</td>\n",
       "      <td>Jakarta D.K.I.</td>\n",
       "    </tr>\n",
       "    <tr>\n",
       "      <th>481</th>\n",
       "      <td>30.0</td>\n",
       "      <td>25.0</td>\n",
       "      <td>2.0</td>\n",
       "      <td>1.0</td>\n",
       "      <td>2.0</td>\n",
       "      <td>Menteng, Jakarta Pusat, Jakarta D.K.I.</td>\n",
       "      <td>Rp 300.000.000</td>\n",
       "      <td>Menteng</td>\n",
       "      <td>Jakarta Pusat</td>\n",
       "      <td>Jakarta D.K.I.</td>\n",
       "    </tr>\n",
       "    <tr>\n",
       "      <th>482</th>\n",
       "      <td>560.0</td>\n",
       "      <td>300.0</td>\n",
       "      <td>7.0</td>\n",
       "      <td>3.0</td>\n",
       "      <td>2.0</td>\n",
       "      <td>Tanah Abang, Jakarta Pusat, Jakarta D.K.I.</td>\n",
       "      <td>Rp 15.000.000.000</td>\n",
       "      <td>Tanah Abang</td>\n",
       "      <td>Jakarta Pusat</td>\n",
       "      <td>Jakarta D.K.I.</td>\n",
       "    </tr>\n",
       "  </tbody>\n",
       "</table>\n",
       "<p>2098 rows × 10 columns</p>\n",
       "</div>"
      ],
      "text/plain": [
       "     luas_tanah  luas_bangunan  kamar_tidur  kamar_mandi  lantai  \\\n",
       "0          60.0           60.0          3.0          2.0     2.0   \n",
       "1          87.0           85.0          3.0          2.0     2.0   \n",
       "2          79.0           60.0          2.0          2.0     2.0   \n",
       "3         144.0           41.0          2.0          1.0     1.0   \n",
       "4          90.0           60.0          4.0          2.0     1.0   \n",
       "..          ...            ...          ...          ...     ...   \n",
       "478        90.0           36.0          2.0          1.0     1.0   \n",
       "479        90.0           69.0          3.0          2.0     2.0   \n",
       "480        60.0           55.0          2.0          2.0     2.0   \n",
       "481        30.0           25.0          2.0          1.0     2.0   \n",
       "482       560.0          300.0          7.0          3.0     2.0   \n",
       "\n",
       "                                           lokasi              harga  \\\n",
       "0    Cempaka Putih, Jakarta Pusat, Jakarta D.K.I.     Rp 550.000.000   \n",
       "1      Sawah Besar, Jakarta Pusat, Jakarta D.K.I.     Rp 795.000.007   \n",
       "2    Cempaka Putih, Jakarta Pusat, Jakarta D.K.I.     Rp 589.300.023   \n",
       "3    Cempaka Putih, Jakarta Pusat, Jakarta D.K.I.     Rp 495.000.000   \n",
       "4    Kelapa Gading, Jakarta Utara, Jakarta D.K.I.   Rp 2.100.000.000   \n",
       "..                                            ...                ...   \n",
       "478    Tanah Abang, Jakarta Pusat, Jakarta D.K.I.     Rp 475.000.000   \n",
       "479    Tanah Abang, Jakarta Pusat, Jakarta D.K.I.     Rp 900.000.000   \n",
       "480       Palmerah, Jakarta Barat, Jakarta D.K.I.     Rp 500.000.001   \n",
       "481        Menteng, Jakarta Pusat, Jakarta D.K.I.     Rp 300.000.000   \n",
       "482    Tanah Abang, Jakarta Pusat, Jakarta D.K.I.  Rp 15.000.000.000   \n",
       "\n",
       "         kecamatan           kota        provinsi  \n",
       "0    Cempaka Putih  Jakarta Pusat  Jakarta D.K.I.  \n",
       "1      Sawah Besar  Jakarta Pusat  Jakarta D.K.I.  \n",
       "2    Cempaka Putih  Jakarta Pusat  Jakarta D.K.I.  \n",
       "3    Cempaka Putih  Jakarta Pusat  Jakarta D.K.I.  \n",
       "4    Kelapa Gading  Jakarta Utara  Jakarta D.K.I.  \n",
       "..             ...            ...             ...  \n",
       "478    Tanah Abang  Jakarta Pusat  Jakarta D.K.I.  \n",
       "479    Tanah Abang  Jakarta Pusat  Jakarta D.K.I.  \n",
       "480       Palmerah  Jakarta Barat  Jakarta D.K.I.  \n",
       "481        Menteng  Jakarta Pusat  Jakarta D.K.I.  \n",
       "482    Tanah Abang  Jakarta Pusat  Jakarta D.K.I.  \n",
       "\n",
       "[2098 rows x 10 columns]"
      ]
     },
     "execution_count": 143,
     "metadata": {},
     "output_type": "execute_result"
    }
   ],
   "source": [
    "df"
   ]
  },
  {
   "cell_type": "code",
   "execution_count": 144,
   "id": "5c9a820e-8cd8-4df5-ac62-c7a49bf521b6",
   "metadata": {},
   "outputs": [],
   "source": [
    "df['harga'] = df['harga'].astype(str)"
   ]
  },
  {
   "cell_type": "code",
   "execution_count": 145,
   "id": "a150f927-9eb2-4ee1-b1fe-22e7cd9eee6d",
   "metadata": {},
   "outputs": [
    {
     "name": "stdout",
     "output_type": "stream",
     "text": [
      "<class 'pandas.core.frame.DataFrame'>\n",
      "Int64Index: 2098 entries, 0 to 482\n",
      "Data columns (total 10 columns):\n",
      " #   Column         Non-Null Count  Dtype  \n",
      "---  ------         --------------  -----  \n",
      " 0   luas_tanah     2098 non-null   float64\n",
      " 1   luas_bangunan  2098 non-null   float64\n",
      " 2   kamar_tidur    2098 non-null   float64\n",
      " 3   kamar_mandi    2098 non-null   float64\n",
      " 4   lantai         1997 non-null   float64\n",
      " 5   lokasi         2098 non-null   object \n",
      " 6   harga          2098 non-null   object \n",
      " 7   kecamatan      2098 non-null   object \n",
      " 8   kota           2098 non-null   object \n",
      " 9   provinsi       2098 non-null   object \n",
      "dtypes: float64(5), object(5)\n",
      "memory usage: 180.3+ KB\n"
     ]
    }
   ],
   "source": [
    "df.info()"
   ]
  },
  {
   "cell_type": "code",
   "execution_count": 146,
   "id": "6dfb6ca7-fc9b-41a7-8261-efb4748e04a0",
   "metadata": {},
   "outputs": [],
   "source": [
    "df['harga'] = df['harga'].str.replace('Rp ','')"
   ]
  },
  {
   "cell_type": "code",
   "execution_count": 147,
   "id": "37ce46d5-b2bf-4255-89c4-f250d6067396",
   "metadata": {},
   "outputs": [
    {
     "name": "stderr",
     "output_type": "stream",
     "text": [
      "C:\\Users\\MSI\\AppData\\Local\\Temp/ipykernel_18808/627661430.py:1: FutureWarning: The default value of regex will change from True to False in a future version. In addition, single character regular expressions will *not* be treated as literal strings when regex=True.\n",
      "  df['harga'] = df['harga'].str.replace('.','')\n"
     ]
    }
   ],
   "source": [
    "df['harga'] = df['harga'].str.replace('.','')"
   ]
  },
  {
   "cell_type": "code",
   "execution_count": 148,
   "id": "ec1ccb79-f788-4280-b000-50fbdf3adda0",
   "metadata": {},
   "outputs": [
    {
     "data": {
      "text/html": [
       "<div>\n",
       "<style scoped>\n",
       "    .dataframe tbody tr th:only-of-type {\n",
       "        vertical-align: middle;\n",
       "    }\n",
       "\n",
       "    .dataframe tbody tr th {\n",
       "        vertical-align: top;\n",
       "    }\n",
       "\n",
       "    .dataframe thead th {\n",
       "        text-align: right;\n",
       "    }\n",
       "</style>\n",
       "<table border=\"1\" class=\"dataframe\">\n",
       "  <thead>\n",
       "    <tr style=\"text-align: right;\">\n",
       "      <th></th>\n",
       "      <th>luas_tanah</th>\n",
       "      <th>luas_bangunan</th>\n",
       "      <th>kamar_tidur</th>\n",
       "      <th>kamar_mandi</th>\n",
       "      <th>lantai</th>\n",
       "      <th>lokasi</th>\n",
       "      <th>harga</th>\n",
       "      <th>kecamatan</th>\n",
       "      <th>kota</th>\n",
       "      <th>provinsi</th>\n",
       "    </tr>\n",
       "  </thead>\n",
       "  <tbody>\n",
       "    <tr>\n",
       "      <th>0</th>\n",
       "      <td>60.0</td>\n",
       "      <td>60.0</td>\n",
       "      <td>3.0</td>\n",
       "      <td>2.0</td>\n",
       "      <td>2.0</td>\n",
       "      <td>Cempaka Putih, Jakarta Pusat, Jakarta D.K.I.</td>\n",
       "      <td>550000000</td>\n",
       "      <td>Cempaka Putih</td>\n",
       "      <td>Jakarta Pusat</td>\n",
       "      <td>Jakarta D.K.I.</td>\n",
       "    </tr>\n",
       "    <tr>\n",
       "      <th>1</th>\n",
       "      <td>87.0</td>\n",
       "      <td>85.0</td>\n",
       "      <td>3.0</td>\n",
       "      <td>2.0</td>\n",
       "      <td>2.0</td>\n",
       "      <td>Sawah Besar, Jakarta Pusat, Jakarta D.K.I.</td>\n",
       "      <td>795000007</td>\n",
       "      <td>Sawah Besar</td>\n",
       "      <td>Jakarta Pusat</td>\n",
       "      <td>Jakarta D.K.I.</td>\n",
       "    </tr>\n",
       "    <tr>\n",
       "      <th>2</th>\n",
       "      <td>79.0</td>\n",
       "      <td>60.0</td>\n",
       "      <td>2.0</td>\n",
       "      <td>2.0</td>\n",
       "      <td>2.0</td>\n",
       "      <td>Cempaka Putih, Jakarta Pusat, Jakarta D.K.I.</td>\n",
       "      <td>589300023</td>\n",
       "      <td>Cempaka Putih</td>\n",
       "      <td>Jakarta Pusat</td>\n",
       "      <td>Jakarta D.K.I.</td>\n",
       "    </tr>\n",
       "    <tr>\n",
       "      <th>3</th>\n",
       "      <td>144.0</td>\n",
       "      <td>41.0</td>\n",
       "      <td>2.0</td>\n",
       "      <td>1.0</td>\n",
       "      <td>1.0</td>\n",
       "      <td>Cempaka Putih, Jakarta Pusat, Jakarta D.K.I.</td>\n",
       "      <td>495000000</td>\n",
       "      <td>Cempaka Putih</td>\n",
       "      <td>Jakarta Pusat</td>\n",
       "      <td>Jakarta D.K.I.</td>\n",
       "    </tr>\n",
       "    <tr>\n",
       "      <th>4</th>\n",
       "      <td>90.0</td>\n",
       "      <td>60.0</td>\n",
       "      <td>4.0</td>\n",
       "      <td>2.0</td>\n",
       "      <td>1.0</td>\n",
       "      <td>Kelapa Gading, Jakarta Utara, Jakarta D.K.I.</td>\n",
       "      <td>2100000000</td>\n",
       "      <td>Kelapa Gading</td>\n",
       "      <td>Jakarta Utara</td>\n",
       "      <td>Jakarta D.K.I.</td>\n",
       "    </tr>\n",
       "  </tbody>\n",
       "</table>\n",
       "</div>"
      ],
      "text/plain": [
       "   luas_tanah  luas_bangunan  kamar_tidur  kamar_mandi  lantai  \\\n",
       "0        60.0           60.0          3.0          2.0     2.0   \n",
       "1        87.0           85.0          3.0          2.0     2.0   \n",
       "2        79.0           60.0          2.0          2.0     2.0   \n",
       "3       144.0           41.0          2.0          1.0     1.0   \n",
       "4        90.0           60.0          4.0          2.0     1.0   \n",
       "\n",
       "                                         lokasi       harga      kecamatan  \\\n",
       "0  Cempaka Putih, Jakarta Pusat, Jakarta D.K.I.   550000000  Cempaka Putih   \n",
       "1    Sawah Besar, Jakarta Pusat, Jakarta D.K.I.   795000007    Sawah Besar   \n",
       "2  Cempaka Putih, Jakarta Pusat, Jakarta D.K.I.   589300023  Cempaka Putih   \n",
       "3  Cempaka Putih, Jakarta Pusat, Jakarta D.K.I.   495000000  Cempaka Putih   \n",
       "4  Kelapa Gading, Jakarta Utara, Jakarta D.K.I.  2100000000  Kelapa Gading   \n",
       "\n",
       "            kota        provinsi  \n",
       "0  Jakarta Pusat  Jakarta D.K.I.  \n",
       "1  Jakarta Pusat  Jakarta D.K.I.  \n",
       "2  Jakarta Pusat  Jakarta D.K.I.  \n",
       "3  Jakarta Pusat  Jakarta D.K.I.  \n",
       "4  Jakarta Utara  Jakarta D.K.I.  "
      ]
     },
     "execution_count": 148,
     "metadata": {},
     "output_type": "execute_result"
    }
   ],
   "source": [
    "df.head()"
   ]
  },
  {
   "cell_type": "code",
   "execution_count": 149,
   "id": "8e347674-7f1e-43de-965b-a54fd7791865",
   "metadata": {},
   "outputs": [
    {
     "name": "stdout",
     "output_type": "stream",
     "text": [
      "<class 'pandas.core.frame.DataFrame'>\n",
      "Int64Index: 2098 entries, 0 to 482\n",
      "Data columns (total 10 columns):\n",
      " #   Column         Non-Null Count  Dtype  \n",
      "---  ------         --------------  -----  \n",
      " 0   luas_tanah     2098 non-null   float64\n",
      " 1   luas_bangunan  2098 non-null   float64\n",
      " 2   kamar_tidur    2098 non-null   float64\n",
      " 3   kamar_mandi    2098 non-null   float64\n",
      " 4   lantai         1997 non-null   float64\n",
      " 5   lokasi         2098 non-null   object \n",
      " 6   harga          2098 non-null   object \n",
      " 7   kecamatan      2098 non-null   object \n",
      " 8   kota           2098 non-null   object \n",
      " 9   provinsi       2098 non-null   object \n",
      "dtypes: float64(5), object(5)\n",
      "memory usage: 180.3+ KB\n"
     ]
    }
   ],
   "source": [
    "df.info()"
   ]
  },
  {
   "cell_type": "code",
   "execution_count": 150,
   "id": "3f4f2eba-27d0-443e-b10e-0ae512846984",
   "metadata": {},
   "outputs": [],
   "source": [
    "df['harga'] = df['harga'].astype(float)"
   ]
  },
  {
   "cell_type": "code",
   "execution_count": 151,
   "id": "4bb246c8-385a-4f9b-b7bb-f7d9a81a8789",
   "metadata": {},
   "outputs": [
    {
     "name": "stdout",
     "output_type": "stream",
     "text": [
      "<class 'pandas.core.frame.DataFrame'>\n",
      "Int64Index: 2098 entries, 0 to 482\n",
      "Data columns (total 10 columns):\n",
      " #   Column         Non-Null Count  Dtype  \n",
      "---  ------         --------------  -----  \n",
      " 0   luas_tanah     2098 non-null   float64\n",
      " 1   luas_bangunan  2098 non-null   float64\n",
      " 2   kamar_tidur    2098 non-null   float64\n",
      " 3   kamar_mandi    2098 non-null   float64\n",
      " 4   lantai         1997 non-null   float64\n",
      " 5   lokasi         2098 non-null   object \n",
      " 6   harga          2098 non-null   float64\n",
      " 7   kecamatan      2098 non-null   object \n",
      " 8   kota           2098 non-null   object \n",
      " 9   provinsi       2098 non-null   object \n",
      "dtypes: float64(6), object(4)\n",
      "memory usage: 180.3+ KB\n"
     ]
    }
   ],
   "source": [
    "df.info()"
   ]
  },
  {
   "cell_type": "code",
   "execution_count": 152,
   "id": "1604b99a-58aa-4405-be1c-8c6610dfabf6",
   "metadata": {},
   "outputs": [],
   "source": [
    "df.to_excel('dataset/merge_dataset.xlsx', index=False)"
   ]
  },
  {
   "cell_type": "code",
   "execution_count": 153,
   "id": "9d30cb47-412c-4c4b-9d55-c086b6cc0546",
   "metadata": {},
   "outputs": [
    {
     "data": {
      "text/plain": [
       "2.0       1271\n",
       "1.0        527\n",
       "3.0        152\n",
       "4.0         23\n",
       "0.0         18\n",
       "5.0          4\n",
       "191.0        1\n",
       "1194.0       1\n",
       "Name: lantai, dtype: int64"
      ]
     },
     "execution_count": 153,
     "metadata": {},
     "output_type": "execute_result"
    }
   ],
   "source": [
    "df['lantai'].value_counts()"
   ]
  },
  {
   "cell_type": "code",
   "execution_count": 154,
   "id": "c1d4029e-ebc5-4a07-b218-999616523792",
   "metadata": {},
   "outputs": [
    {
     "data": {
      "text/plain": [
       "luas_tanah         0\n",
       "luas_bangunan      0\n",
       "kamar_tidur        0\n",
       "kamar_mandi        0\n",
       "lantai           101\n",
       "lokasi             0\n",
       "harga              0\n",
       "kecamatan          0\n",
       "kota               0\n",
       "provinsi           0\n",
       "dtype: int64"
      ]
     },
     "execution_count": 154,
     "metadata": {},
     "output_type": "execute_result"
    }
   ],
   "source": [
    "df.isna().sum()"
   ]
  },
  {
   "cell_type": "code",
   "execution_count": 155,
   "id": "00c05a0e-b43f-4afb-9f4e-a42550e8e44f",
   "metadata": {},
   "outputs": [],
   "source": [
    "df['lantai'] = df['lantai'].fillna(1)"
   ]
  },
  {
   "cell_type": "code",
   "execution_count": 156,
   "id": "bb297c52-6cae-4543-8915-daa8fdd5a5af",
   "metadata": {},
   "outputs": [
    {
     "data": {
      "text/plain": [
       "luas_tanah       0\n",
       "luas_bangunan    0\n",
       "kamar_tidur      0\n",
       "kamar_mandi      0\n",
       "lantai           0\n",
       "lokasi           0\n",
       "harga            0\n",
       "kecamatan        0\n",
       "kota             0\n",
       "provinsi         0\n",
       "dtype: int64"
      ]
     },
     "execution_count": 156,
     "metadata": {},
     "output_type": "execute_result"
    }
   ],
   "source": [
    "df.isna().sum()"
   ]
  },
  {
   "cell_type": "code",
   "execution_count": 157,
   "id": "f94c63b9-cbf6-493d-b8c5-b616841f0c5c",
   "metadata": {},
   "outputs": [],
   "source": [
    "df['lantai'] = df['lantai'].replace([0.0],1.0)"
   ]
  },
  {
   "cell_type": "code",
   "execution_count": 158,
   "id": "a5906a72-ace9-4932-abe3-9da424774abf",
   "metadata": {},
   "outputs": [
    {
     "data": {
      "text/plain": [
       "2.0       1271\n",
       "1.0        646\n",
       "3.0        152\n",
       "4.0         23\n",
       "5.0          4\n",
       "191.0        1\n",
       "1194.0       1\n",
       "Name: lantai, dtype: int64"
      ]
     },
     "execution_count": 158,
     "metadata": {},
     "output_type": "execute_result"
    }
   ],
   "source": [
    "df['lantai'].value_counts()"
   ]
  },
  {
   "cell_type": "code",
   "execution_count": 159,
   "id": "aab7e5d5-e2f3-4ff3-ba6f-a207410eadfd",
   "metadata": {},
   "outputs": [
    {
     "data": {
      "image/png": "[encoded data removed]",
      "text/plain": [
       "<Figure size 432x288 with 1 Axes>"
      ]
     },
     "metadata": {},
     "output_type": "display_data"
    }
   ],
   "source": [
    "plt.scatter(df['luas_tanah'], df['luas_bangunan'], cmap =plt.cm.winter)\n",
    "plt.xlabel('Luas Tanah')\n",
    "plt.ylabel('Luas Bangunan')\n",
    "plt.show()"
   ]
  },
  {
   "cell_type": "code",
   "execution_count": 160,
   "id": "ba4fa6cd-c180-43a9-b1f7-ffcb4bdce185",
   "metadata": {},
   "outputs": [
    {
     "data": {
      "image/png": "[encoded data removed]",
      "text/plain": [
       "<Figure size 432x288 with 1 Axes>"
      ]
     },
     "metadata": {},
     "output_type": "display_data"
    }
   ],
   "source": [
    "plt.scatter(df['kamar_tidur'], df['kamar_mandi'], cmap =plt.cm.winter)\n",
    "plt.xlabel('Kamar Tidur')\n",
    "plt.ylabel('Kamar Mandi')\n",
    "plt.show() "
   ]
  },
  {
   "cell_type": "code",
   "execution_count": 161,
   "id": "6208fbe8-0c50-46b2-92cc-fe5b66551dc0",
   "metadata": {},
   "outputs": [
    {
     "data": {
      "image/png": "[encoded data removed]",
      "text/plain": [
       "<Figure size 432x288 with 1 Axes>"
      ]
     },
     "metadata": {},
     "output_type": "display_data"
    }
   ],
   "source": [
    "plt.scatter(df['lantai'], df['harga'], cmap =plt.cm.winter)\n",
    "plt.xlabel('Lantai')\n",
    "plt.ylabel('Harga')\n",
    "plt.show() "
   ]
  },
  {
   "cell_type": "code",
   "execution_count": 162,
   "id": "06cd1b01-2b09-45df-aabe-3472e30b5cd3",
   "metadata": {},
   "outputs": [],
   "source": [
    "df = df[df['lantai'] < 100]\n",
    "df = df[df['luas_tanah'] < 2000]\n",
    "df = df[df['luas_bangunan'] < 2000]"
   ]
  },
  {
   "cell_type": "code",
   "execution_count": 163,
   "id": "9c434640-1bf4-4ce4-b019-535e3aa9f180",
   "metadata": {},
   "outputs": [
    {
     "data": {
      "image/png": "[encoded data removed]",
      "text/plain": [
       "<Figure size 1080x360 with 1 Axes>"
      ]
     },
     "metadata": {},
     "output_type": "display_data"
    }
   ],
   "source": [
    "sns.set_theme(style=\"whitegrid\")\n",
    "plt.figure(figsize=(15,5))\n",
    "p = sns.boxplot(x=df[\"harga\"])"
   ]
  },
  {
   "cell_type": "code",
   "execution_count": 164,
   "id": "20009b2e-39d7-42fe-b85a-fe70970ee740",
   "metadata": {},
   "outputs": [],
   "source": [
    "q1 = df['harga'].quantile(0.25)\n",
    "q3 = df['harga'].quantile(0.75)\n",
    "\n",
    "iqr = q3 - q1\n",
    "\n",
    "df = df[df['harga'] < (q3+1.5*iqr)]"
   ]
  },
  {
   "cell_type": "code",
   "execution_count": 165,
   "id": "35a2a5a7-bccf-444c-898d-7cba806c7108",
   "metadata": {},
   "outputs": [
    {
     "data": {
      "image/png": "[encoded data removed]",
      "text/plain": [
       "<Figure size 1080x360 with 1 Axes>"
      ]
     },
     "metadata": {},
     "output_type": "display_data"
    }
   ],
   "source": [
    "sns.set_theme(style=\"whitegrid\")\n",
    "plt.figure(figsize=(15,5))\n",
    "p = sns.boxplot(x=df[\"harga\"])"
   ]
  },
  {
   "cell_type": "code",
   "execution_count": 166,
   "id": "26a633d9-87a6-4d12-b2a7-d9e3c5740d1f",
   "metadata": {},
   "outputs": [
    {
     "data": {
      "image/png": "[encoded data removed]",
      "text/plain": [
       "<Figure size 1080x360 with 1 Axes>"
      ]
     },
     "metadata": {},
     "output_type": "display_data"
    }
   ],
   "source": [
    "sns.set_theme(style=\"whitegrid\")\n",
    "plt.figure(figsize=(15,5))\n",
    "p = sns.boxplot(x=df[\"luas_tanah\"])"
   ]
  },
  {
   "cell_type": "code",
   "execution_count": 167,
   "id": "3abb01b9-9b10-4082-b9c1-055252c6ea5f",
   "metadata": {},
   "outputs": [],
   "source": [
    "q1 = df['luas_tanah'].quantile(0.25)\n",
    "q3 = df['luas_tanah'].quantile(0.75)\n",
    "\n",
    "iqr = q3 - q1\n",
    "\n",
    "df = df[df['luas_tanah'] < (q3+1.5*iqr)]"
   ]
  },
  {
   "cell_type": "code",
   "execution_count": 168,
   "id": "3ab23410-f34b-4cb4-b634-27c0e168693e",
   "metadata": {},
   "outputs": [
    {
     "data": {
      "image/png": "[encoded data removed]",
      "text/plain": [
       "<Figure size 1080x360 with 1 Axes>"
      ]
     },
     "metadata": {},
     "output_type": "display_data"
    }
   ],
   "source": [
    "sns.set_theme(style=\"whitegrid\")\n",
    "plt.figure(figsize=(15,5))\n",
    "p = sns.boxplot(x=df[\"luas_tanah\"])"
   ]
  },
  {
   "cell_type": "code",
   "execution_count": 169,
   "id": "a8bf5517-d990-4182-9b29-e0ff65a379ae",
   "metadata": {},
   "outputs": [
    {
     "data": {
      "image/png": "[encoded data removed]",
      "text/plain": [
       "<Figure size 1080x360 with 1 Axes>"
      ]
     },
     "metadata": {},
     "output_type": "display_data"
    }
   ],
   "source": [
    "sns.set_theme(style=\"whitegrid\")\n",
    "plt.figure(figsize=(15,5))\n",
    "p = sns.boxplot(x=df[\"luas_bangunan\"])"
   ]
  },
  {
   "cell_type": "code",
   "execution_count": 170,
   "id": "4b03c1c1-3e66-4d42-9d00-71b1ab9dc789",
   "metadata": {},
   "outputs": [],
   "source": [
    "q1 = df['luas_bangunan'].quantile(0.25)\n",
    "q3 = df['luas_bangunan'].quantile(0.75)\n",
    "\n",
    "iqr = q3 - q1\n",
    "\n",
    "df = df[df['luas_bangunan'] < (q3+1.5*iqr)]"
   ]
  },
  {
   "cell_type": "code",
   "execution_count": 171,
   "id": "e5d14cd9-a497-4739-af75-9a78db3502ef",
   "metadata": {},
   "outputs": [
    {
     "data": {
      "image/png": "[encoded data removed]",
      "text/plain": [
       "<Figure size 1080x360 with 1 Axes>"
      ]
     },
     "metadata": {},
     "output_type": "display_data"
    }
   ],
   "source": [
    "sns.set_theme(style=\"whitegrid\")\n",
    "plt.figure(figsize=(15,5))\n",
    "p = sns.boxplot(x=df[\"luas_bangunan\"])"
   ]
  },
  {
   "cell_type": "code",
   "execution_count": 172,
   "id": "9ac63836-5432-4577-b25b-736cd3763f49",
   "metadata": {},
   "outputs": [],
   "source": [
    "df = df[df['luas_tanah'] >= 21]"
   ]
  },
  {
   "cell_type": "code",
   "execution_count": 173,
   "id": "872c7073-4a3c-4fe0-9b10-828a819abb32",
   "metadata": {},
   "outputs": [],
   "source": [
    "df = df[df['luas_bangunan'] >= 21]"
   ]
  },
  {
   "cell_type": "code",
   "execution_count": 174,
   "id": "2599e6e2-3e92-418b-869d-41b341451670",
   "metadata": {},
   "outputs": [],
   "source": [
    "df = df[df['harga'] >= 150000000]"
   ]
  },
  {
   "cell_type": "code",
   "execution_count": 175,
   "id": "c1723768-6a15-46c3-bfe3-46432eb9ebb3",
   "metadata": {},
   "outputs": [
    {
     "data": {
      "image/png": "[encoded data removed]",
      "text/plain": [
       "<Figure size 432x288 with 1 Axes>"
      ]
     },
     "metadata": {},
     "output_type": "display_data"
    }
   ],
   "source": [
    "plt.scatter(df['luas_tanah'], df['harga'], cmap =plt.cm.winter)\n",
    "plt.xlabel('Lantai')\n",
    "plt.ylabel('Harga')\n",
    "plt.show() "
   ]
  },
  {
   "cell_type": "code",
   "execution_count": 176,
   "id": "a2243530-8a7a-4cfc-9430-52678aa2262f",
   "metadata": {},
   "outputs": [
    {
     "data": {
      "text/plain": [
       "1548"
      ]
     },
     "execution_count": 176,
     "metadata": {},
     "output_type": "execute_result"
    }
   ],
   "source": [
    "len(df.index)"
   ]
  },
  {
   "cell_type": "code",
   "execution_count": 177,
   "id": "2dc3479a-c699-461f-adaf-2c33fdb74f96",
   "metadata": {},
   "outputs": [
    {
     "data": {
      "text/plain": [
       "150000000.0"
      ]
     },
     "execution_count": 177,
     "metadata": {},
     "output_type": "execute_result"
    }
   ],
   "source": [
    "df['harga'].min()"
   ]
  },
  {
   "cell_type": "code",
   "execution_count": 178,
   "id": "6f8aead8-3ab3-4750-a081-0b805d5e42d9",
   "metadata": {},
   "outputs": [
    {
     "data": {
      "text/html": [
       "<div>\n",
       "<style scoped>\n",
       "    .dataframe tbody tr th:only-of-type {\n",
       "        vertical-align: middle;\n",
       "    }\n",
       "\n",
       "    .dataframe tbody tr th {\n",
       "        vertical-align: top;\n",
       "    }\n",
       "\n",
       "    .dataframe thead th {\n",
       "        text-align: right;\n",
       "    }\n",
       "</style>\n",
       "<table border=\"1\" class=\"dataframe\">\n",
       "  <thead>\n",
       "    <tr style=\"text-align: right;\">\n",
       "      <th></th>\n",
       "      <th>luas_tanah</th>\n",
       "      <th>luas_bangunan</th>\n",
       "      <th>kamar_tidur</th>\n",
       "      <th>kamar_mandi</th>\n",
       "      <th>lantai</th>\n",
       "      <th>harga</th>\n",
       "    </tr>\n",
       "  </thead>\n",
       "  <tbody>\n",
       "    <tr>\n",
       "      <th>count</th>\n",
       "      <td>1548.000000</td>\n",
       "      <td>1548.000000</td>\n",
       "      <td>1548.000000</td>\n",
       "      <td>1548.000000</td>\n",
       "      <td>1548.000000</td>\n",
       "      <td>1.548000e+03</td>\n",
       "    </tr>\n",
       "    <tr>\n",
       "      <th>mean</th>\n",
       "      <td>83.054910</td>\n",
       "      <td>90.410853</td>\n",
       "      <td>2.918605</td>\n",
       "      <td>2.113695</td>\n",
       "      <td>1.765504</td>\n",
       "      <td>1.344577e+09</td>\n",
       "    </tr>\n",
       "    <tr>\n",
       "      <th>std</th>\n",
       "      <td>35.979366</td>\n",
       "      <td>54.705834</td>\n",
       "      <td>1.002822</td>\n",
       "      <td>0.969473</td>\n",
       "      <td>0.599438</td>\n",
       "      <td>1.125629e+09</td>\n",
       "    </tr>\n",
       "    <tr>\n",
       "      <th>min</th>\n",
       "      <td>21.000000</td>\n",
       "      <td>21.000000</td>\n",
       "      <td>1.000000</td>\n",
       "      <td>1.000000</td>\n",
       "      <td>1.000000</td>\n",
       "      <td>1.500000e+08</td>\n",
       "    </tr>\n",
       "    <tr>\n",
       "      <th>25%</th>\n",
       "      <td>60.000000</td>\n",
       "      <td>50.000000</td>\n",
       "      <td>2.000000</td>\n",
       "      <td>1.000000</td>\n",
       "      <td>1.000000</td>\n",
       "      <td>5.500000e+08</td>\n",
       "    </tr>\n",
       "    <tr>\n",
       "      <th>50%</th>\n",
       "      <td>78.000000</td>\n",
       "      <td>72.000000</td>\n",
       "      <td>3.000000</td>\n",
       "      <td>2.000000</td>\n",
       "      <td>2.000000</td>\n",
       "      <td>9.360000e+08</td>\n",
       "    </tr>\n",
       "    <tr>\n",
       "      <th>75%</th>\n",
       "      <td>98.000000</td>\n",
       "      <td>125.000000</td>\n",
       "      <td>3.000000</td>\n",
       "      <td>3.000000</td>\n",
       "      <td>2.000000</td>\n",
       "      <td>1.700000e+09</td>\n",
       "    </tr>\n",
       "    <tr>\n",
       "      <th>max</th>\n",
       "      <td>203.000000</td>\n",
       "      <td>265.000000</td>\n",
       "      <td>10.000000</td>\n",
       "      <td>9.000000</td>\n",
       "      <td>5.000000</td>\n",
       "      <td>6.500000e+09</td>\n",
       "    </tr>\n",
       "  </tbody>\n",
       "</table>\n",
       "</div>"
      ],
      "text/plain": [
       "        luas_tanah  luas_bangunan  kamar_tidur  kamar_mandi       lantai  \\\n",
       "count  1548.000000    1548.000000  1548.000000  1548.000000  1548.000000   \n",
       "mean     83.054910      90.410853     2.918605     2.113695     1.765504   \n",
       "std      35.979366      54.705834     1.002822     0.969473     0.599438   \n",
       "min      21.000000      21.000000     1.000000     1.000000     1.000000   \n",
       "25%      60.000000      50.000000     2.000000     1.000000     1.000000   \n",
       "50%      78.000000      72.000000     3.000000     2.000000     2.000000   \n",
       "75%      98.000000     125.000000     3.000000     3.000000     2.000000   \n",
       "max     203.000000     265.000000    10.000000     9.000000     5.000000   \n",
       "\n",
       "              harga  \n",
       "count  1.548000e+03  \n",
       "mean   1.344577e+09  \n",
       "std    1.125629e+09  \n",
       "min    1.500000e+08  \n",
       "25%    5.500000e+08  \n",
       "50%    9.360000e+08  \n",
       "75%    1.700000e+09  \n",
       "max    6.500000e+09  "
      ]
     },
     "execution_count": 178,
     "metadata": {},
     "output_type": "execute_result"
    }
   ],
   "source": [
    "df.describe()"
   ]
  },
  {
   "cell_type": "code",
   "execution_count": 58,
   "id": "c4dfdf1e-bc3a-4cee-9cf1-d8954525800b",
   "metadata": {},
   "outputs": [],
   "source": [
    "df.to_excel('dataset/cleaned_dataset.xlsx', index=False)"
   ]
  }
 ],
 "metadata": {
  "kernelspec": {
   "display_name": "Python 3 (ipykernel)",
   "language": "python",
   "name": "python3"
  },
  "language_info": {
   "codemirror_mode": {
    "name": "ipython",
    "version": 3
   },
   "file_extension": ".py",
   "mimetype": "text/x-python",
   "name": "python",
   "nbconvert_exporter": "python",
   "pygments_lexer": "ipython3",
   "version": "3.9.7"
  }
 },
 "nbformat": 4,
 "nbformat_minor": 5
}
