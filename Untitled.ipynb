{
 "cells": [
  {
   "cell_type": "code",
   "execution_count": 10,
   "id": "59c5e8b3-f9f3-463c-9f3c-973a635bf723",
   "metadata": {},
   "outputs": [
    {
     "data": {
      "text/plain": [
       "26000"
      ]
     },
     "execution_count": 10,
     "metadata": {},
     "output_type": "execute_result"
    }
   ],
   "source": [
    "def CalculatePrice(hour):\n",
    "    \n",
    "    if hour<5:\n",
    "        return hour*4000\n",
    "    else:\n",
    "        floorDiv = hour//5\n",
    "        return (floorDiv*18000) + ((hour-(floorDiv*5))*4000)\n",
    "\n",
    "x = 7\n",
    "CalculatePrice(x)"
   ]
  },
  {
   "cell_type": "code",
   "execution_count": 22,
   "id": "10a582a0-aec9-462a-bc6c-a2e40ac4f7ea",
   "metadata": {},
   "outputs": [
    {
     "data": {
      "text/plain": [
       "'75000'"
      ]
     },
     "execution_count": 22,
     "metadata": {},
     "output_type": "execute_result"
    }
   ],
   "source": [
    "def calculateIceCreamMeter(totalLate, incrementalFee):\n",
    "    if (totalLate>10) or (incrementalFee<1000) or (incrementalFee>10000):\n",
    "        return \"Invalid input\"\n",
    "    elif totalLate == 0:\n",
    "        return 0\n",
    "    else:\n",
    "        i = 1\n",
    "        fine = 0\n",
    "        while i<=totalLate:\n",
    "            fine = fine + (i*incrementalFee)\n",
    "            i+=1\n",
    "        return str(fine)\n",
    "\n",
    "calculateIceCreamMeter(5,5000)"
   ]
  },
  {
   "cell_type": "code",
   "execution_count": 23,
   "id": "a13766ed-1d1c-4fbd-8363-5554544310d7",
   "metadata": {},
   "outputs": [
    {
     "data": {
      "text/plain": [
       "'A'"
      ]
     },
     "execution_count": 23,
     "metadata": {},
     "output_type": "execute_result"
    }
   ],
   "source": [
    "word = 'At'\n",
    "\n",
    "word[0]"
   ]
  },
  {
   "cell_type": "code",
   "execution_count": 28,
   "id": "13ca8e5a-8d54-4a54-b2a7-4c23a922ca5d",
   "metadata": {},
   "outputs": [
    {
     "data": {
      "text/plain": [
       "15"
      ]
     },
     "execution_count": 28,
     "metadata": {},
     "output_type": "execute_result"
    }
   ],
   "source": [
    "def getScore(word):\n",
    "    a = 'aeiouvxsAEIOUVXS'\n",
    "    b = 'DGHTdght'\n",
    "    c = 'CFJKLNRcfjklnr'\n",
    "    d = 'BMPbmp'\n",
    "    e = 'WYwy'\n",
    "    f = 'QZqz'\n",
    "    \n",
    "    i = 0\n",
    "    score = 0\n",
    "    while i<len(word):\n",
    "        if word[i] in a:\n",
    "            score = score+1\n",
    "        elif word[i] in b:\n",
    "            score = score+2\n",
    "        elif word[i] in c:\n",
    "            score = score+4\n",
    "        elif word[i] in d:\n",
    "            score = score+6\n",
    "        elif word[i] in e:\n",
    "            score = score+8\n",
    "        elif word[i] in f:\n",
    "            score = score+10\n",
    "        else:\n",
    "            score = score+0\n",
    "        i+=1\n",
    "    \n",
    "    return score\n",
    "\n",
    "getScore('pinata12')"
   ]
  }
 ],
 "metadata": {
  "kernelspec": {
   "display_name": "Python 3 (ipykernel)",
   "language": "python",
   "name": "python3"
  },
  "language_info": {
   "codemirror_mode": {
    "name": "ipython",
    "version": 3
   },
   "file_extension": ".py",
   "mimetype": "text/x-python",
   "name": "python",
   "nbconvert_exporter": "python",
   "pygments_lexer": "ipython3",
   "version": "3.9.7"
  }
 },
 "nbformat": 4,
 "nbformat_minor": 5
}
